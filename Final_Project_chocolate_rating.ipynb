{
 "nbformat": 4,
 "nbformat_minor": 0,
 "metadata": {
  "colab": {
   "provenance": []
  },
  "kernelspec": {
   "name": "python3",
   "display_name": "Python 3"
  },
  "language_info": {
   "name": "python"
  }
 },
 "cells": [
  {
   "cell_type": "markdown",
   "source": [
    "# **FINAL PROJECT - Chocolate bar rating dataset**"
   ],
   "metadata": {
    "id": "AB5G87bTbNEf"
   }
  },
  {
   "cell_type": "markdown",
   "source": [
    "Naama Kashani 312400476\n",
    "<p>\n",
    "Tal Ishon 315242297"
   ],
   "metadata": {
    "id": "eJvPj_Xg2y7M"
   }
  },
  {
   "cell_type": "markdown",
   "source": [
    "imports"
   ],
   "metadata": {
    "id": "okKqrHOUDCVb"
   }
  },
  {
   "cell_type": "code",
   "source": [
    "\n",
    "import pandas as pd\n",
    "import seaborn as sns\n",
    "import matplotlib.pyplot as plt\n",
    "import re\n",
    "import numpy as np\n",
    "from sklearn.utils import resample\n",
    "from sklearn.preprocessing import LabelEncoder\n",
    "import xgboost as xgb\n",
    "from sklearn.model_selection import train_test_split\n",
    "from sklearn.model_selection import KFold\n",
    "from sklearn.metrics import accuracy_score, confusion_matrix\n",
    "from xgboost import plot_tree\n",
    "import shap\n",
    "from sklearn.model_selection import GridSearchCV\n",
    "from sklearn.metrics import accuracy_score\n",
    "from catboost import CatBoostClassifier\n",
    "from sklearn.metrics import accuracy_score\n",
    "from sklearn.metrics import precision_score, recall_score, f1_score\n"
   ],
   "metadata": {
    "id": "TlWE8fVDbLlh"
   },
   "execution_count": 4,
   "outputs": []
  },
  {
   "cell_type": "code",
   "source": [
    "df= pd.read_csv( \"./chocolate_dataset.csv\")\n",
    "df.shape"
   ],
   "metadata": {
    "colab": {
     "base_uri": "https://localhost:8080/"
    },
    "id": "YYlot7LqWbZJ",
    "outputId": "713d28e9-9300-4f98-c002-2df53b9c8c43"
   },
   "execution_count": 5,
   "outputs": [
    {
     "data": {
      "text/plain": "(1795, 9)"
     },
     "execution_count": 5,
     "metadata": {},
     "output_type": "execute_result"
    }
   ]
  },
  {
   "cell_type": "markdown",
   "source": [
    "# **Analyze the dataset**"
   ],
   "metadata": {
    "id": "T0-56wo84ZNw"
   }
  },
  {
   "cell_type": "code",
   "source": [
    "df.dtypes"
   ],
   "metadata": {
    "colab": {
     "base_uri": "https://localhost:8080/"
    },
    "id": "TXhZHh7YRB5i",
    "outputId": "3f2b5f9f-b35b-40fc-edf3-3d52b815e997"
   },
   "execution_count": 6,
   "outputs": [
    {
     "data": {
      "text/plain": "Company \\n(Maker-if known)            object\nSpecific Bean Origin\\nor Bar Name     object\nREF                                    int64\nReview\\nDate                           int64\nCocoa\\nPercent                        object\nCompany\\nLocation                     object\nRating                               float64\nBean\\nType                            object\nBroad Bean\\nOrigin                    object\ndtype: object"
     },
     "execution_count": 6,
     "metadata": {},
     "output_type": "execute_result"
    }
   ]
  },
  {
   "cell_type": "markdown",
   "source": [
    "We can see that there are mixture of data types."
   ],
   "metadata": {
    "id": "rRIbpUPGVRGP"
   }
  },
  {
   "cell_type": "code",
   "source": [
    "#view few samples\n",
    "df.head()"
   ],
   "metadata": {
    "colab": {
     "base_uri": "https://localhost:8080/",
     "height": 206
    },
    "id": "gtkUZIrYR5XH",
    "outputId": "2adee033-944e-4fa0-d217-94eba1eef1d5"
   },
   "execution_count": 7,
   "outputs": [
    {
     "data": {
      "text/plain": "  Company \\n(Maker-if known) Specific Bean Origin\\nor Bar Name   REF  \\\n0                   A. Morin                       Agua Grande  1876   \n1                   A. Morin                             Kpime  1676   \n2                   A. Morin                            Atsane  1676   \n3                   A. Morin                             Akata  1680   \n4                   A. Morin                            Quilla  1704   \n\n   Review\\nDate Cocoa\\nPercent Company\\nLocation  Rating Bean\\nType  \\\n0          2016            63%            France    3.75              \n1          2015            70%            France    2.75              \n2          2015            70%            France    3.00              \n3          2015            70%            France    3.50              \n4          2015            70%            France    3.50              \n\n  Broad Bean\\nOrigin  \n0           Sao Tome  \n1               Togo  \n2               Togo  \n3               Togo  \n4               Peru  ",
      "text/html": "<div>\n<style scoped>\n    .dataframe tbody tr th:only-of-type {\n        vertical-align: middle;\n    }\n\n    .dataframe tbody tr th {\n        vertical-align: top;\n    }\n\n    .dataframe thead th {\n        text-align: right;\n    }\n</style>\n<table border=\"1\" class=\"dataframe\">\n  <thead>\n    <tr style=\"text-align: right;\">\n      <th></th>\n      <th>Company \\n(Maker-if known)</th>\n      <th>Specific Bean Origin\\nor Bar Name</th>\n      <th>REF</th>\n      <th>Review\\nDate</th>\n      <th>Cocoa\\nPercent</th>\n      <th>Company\\nLocation</th>\n      <th>Rating</th>\n      <th>Bean\\nType</th>\n      <th>Broad Bean\\nOrigin</th>\n    </tr>\n  </thead>\n  <tbody>\n    <tr>\n      <th>0</th>\n      <td>A. Morin</td>\n      <td>Agua Grande</td>\n      <td>1876</td>\n      <td>2016</td>\n      <td>63%</td>\n      <td>France</td>\n      <td>3.75</td>\n      <td></td>\n      <td>Sao Tome</td>\n    </tr>\n    <tr>\n      <th>1</th>\n      <td>A. Morin</td>\n      <td>Kpime</td>\n      <td>1676</td>\n      <td>2015</td>\n      <td>70%</td>\n      <td>France</td>\n      <td>2.75</td>\n      <td></td>\n      <td>Togo</td>\n    </tr>\n    <tr>\n      <th>2</th>\n      <td>A. Morin</td>\n      <td>Atsane</td>\n      <td>1676</td>\n      <td>2015</td>\n      <td>70%</td>\n      <td>France</td>\n      <td>3.00</td>\n      <td></td>\n      <td>Togo</td>\n    </tr>\n    <tr>\n      <th>3</th>\n      <td>A. Morin</td>\n      <td>Akata</td>\n      <td>1680</td>\n      <td>2015</td>\n      <td>70%</td>\n      <td>France</td>\n      <td>3.50</td>\n      <td></td>\n      <td>Togo</td>\n    </tr>\n    <tr>\n      <th>4</th>\n      <td>A. Morin</td>\n      <td>Quilla</td>\n      <td>1704</td>\n      <td>2015</td>\n      <td>70%</td>\n      <td>France</td>\n      <td>3.50</td>\n      <td></td>\n      <td>Peru</td>\n    </tr>\n  </tbody>\n</table>\n</div>"
     },
     "execution_count": 7,
     "metadata": {},
     "output_type": "execute_result"
    }
   ]
  },
  {
   "cell_type": "markdown",
   "source": [
    "Viewing the data reveal the types, we can see numeric and textual data types."
   ],
   "metadata": {
    "id": "HjLggapRDdTk"
   }
  },
  {
   "cell_type": "markdown",
   "source": [
    "We renamed the column names to be more significant."
   ],
   "metadata": {
    "id": "SQntagQ9Dmnz"
   }
  },
  {
   "cell_type": "code",
   "source": [
    "## rename columns and replace % to be float number\n",
    "original_colnames = df.columns\n",
    "new_colnames = ['company', 'chocolate_bar_origin', 'REF', 'review_year', 'cocoa_p',\n",
    "                'company_location', 'rating', 'bean_type', 'bean_origin']\n",
    "df = df.rename(columns=dict(zip(original_colnames, new_colnames)))\n",
    "## And modify data types\n",
    "df['cocoa_p'] = df['cocoa_p'].str.replace('%','').astype(float)/100\n",
    "df.head()"
   ],
   "metadata": {
    "colab": {
     "base_uri": "https://localhost:8080/",
     "height": 206
    },
    "id": "PMme625aSIJo",
    "outputId": "40d216f0-6913-4161-a85b-f5fe384cd688"
   },
   "execution_count": 8,
   "outputs": [
    {
     "data": {
      "text/plain": "    company chocolate_bar_origin   REF  review_year  cocoa_p company_location  \\\n0  A. Morin          Agua Grande  1876         2016     0.63           France   \n1  A. Morin                Kpime  1676         2015     0.70           France   \n2  A. Morin               Atsane  1676         2015     0.70           France   \n3  A. Morin                Akata  1680         2015     0.70           France   \n4  A. Morin               Quilla  1704         2015     0.70           France   \n\n   rating bean_type bean_origin  \n0    3.75              Sao Tome  \n1    2.75                  Togo  \n2    3.00                  Togo  \n3    3.50                  Togo  \n4    3.50                  Peru  ",
      "text/html": "<div>\n<style scoped>\n    .dataframe tbody tr th:only-of-type {\n        vertical-align: middle;\n    }\n\n    .dataframe tbody tr th {\n        vertical-align: top;\n    }\n\n    .dataframe thead th {\n        text-align: right;\n    }\n</style>\n<table border=\"1\" class=\"dataframe\">\n  <thead>\n    <tr style=\"text-align: right;\">\n      <th></th>\n      <th>company</th>\n      <th>chocolate_bar_origin</th>\n      <th>REF</th>\n      <th>review_year</th>\n      <th>cocoa_p</th>\n      <th>company_location</th>\n      <th>rating</th>\n      <th>bean_type</th>\n      <th>bean_origin</th>\n    </tr>\n  </thead>\n  <tbody>\n    <tr>\n      <th>0</th>\n      <td>A. Morin</td>\n      <td>Agua Grande</td>\n      <td>1876</td>\n      <td>2016</td>\n      <td>0.63</td>\n      <td>France</td>\n      <td>3.75</td>\n      <td></td>\n      <td>Sao Tome</td>\n    </tr>\n    <tr>\n      <th>1</th>\n      <td>A. Morin</td>\n      <td>Kpime</td>\n      <td>1676</td>\n      <td>2015</td>\n      <td>0.70</td>\n      <td>France</td>\n      <td>2.75</td>\n      <td></td>\n      <td>Togo</td>\n    </tr>\n    <tr>\n      <th>2</th>\n      <td>A. Morin</td>\n      <td>Atsane</td>\n      <td>1676</td>\n      <td>2015</td>\n      <td>0.70</td>\n      <td>France</td>\n      <td>3.00</td>\n      <td></td>\n      <td>Togo</td>\n    </tr>\n    <tr>\n      <th>3</th>\n      <td>A. Morin</td>\n      <td>Akata</td>\n      <td>1680</td>\n      <td>2015</td>\n      <td>0.70</td>\n      <td>France</td>\n      <td>3.50</td>\n      <td></td>\n      <td>Togo</td>\n    </tr>\n    <tr>\n      <th>4</th>\n      <td>A. Morin</td>\n      <td>Quilla</td>\n      <td>1704</td>\n      <td>2015</td>\n      <td>0.70</td>\n      <td>France</td>\n      <td>3.50</td>\n      <td></td>\n      <td>Peru</td>\n    </tr>\n  </tbody>\n</table>\n</div>"
     },
     "execution_count": 8,
     "metadata": {},
     "output_type": "execute_result"
    }
   ]
  },
  {
   "cell_type": "code",
   "source": [
    "# Check for missing values in each column\n",
    "missing_per_column = df.isnull().any()\n",
    "\n",
    "# Filter the columns that contain missing values\n",
    "columns_with_missing_values = missing_per_column[missing_per_column]\n",
    "\n",
    "# Print the names of columns with missing values\n",
    "print(\"Columns with missing values:\")\n",
    "print(columns_with_missing_values.index.tolist())"
   ],
   "metadata": {
    "colab": {
     "base_uri": "https://localhost:8080/"
    },
    "id": "W9mX_6hfS2g3",
    "outputId": "60663693-9be5-4e0f-cb41-626baca8639e"
   },
   "execution_count": 9,
   "outputs": [
    {
     "name": "stdout",
     "output_type": "stream",
     "text": [
      "Columns with missing values:\n",
      "['bean_type', 'bean_origin']\n"
     ]
    }
   ]
  },
  {
   "cell_type": "markdown",
   "source": [
    "Missing values are identified within the \"bean type\" and \"broad bean origin (country)\" columns we will handel that issue.\n"
   ],
   "metadata": {
    "id": "53tDz0O2Vbry"
   }
  },
  {
   "cell_type": "code",
   "source": [
    "# Set plot style\n",
    "sns.set_style(\"whitegrid\")\n",
    "\n",
    "# Plot histogram\n",
    "plt.figure(figsize=(10, 6))\n",
    "sns.histplot(df['rating'],  bins=30, color=\"lightblue\", edgecolor=\"black\")\n",
    "\n",
    "# Set labels and title\n",
    "plt.xlabel(\"Rating\")\n",
    "plt.ylabel(\"Count\")\n",
    "plt.title(\"Distribution of Ratings\")\n",
    "\n",
    "# Show plot\n",
    "plt.show()"
   ],
   "metadata": {
    "colab": {
     "base_uri": "https://localhost:8080/",
     "height": 564
    },
    "id": "UsvU10OQVnmu",
    "outputId": "2da324b0-b1d1-4488-bd8b-9033d133472c"
   },
   "execution_count": 10,
   "outputs": [
    {
     "data": {
      "text/plain": "<Figure size 1000x600 with 1 Axes>",
      "image/png": "[encoded data removed]"
     },
     "metadata": {},
     "output_type": "display_data"
    }
   ]
  },
  {
   "cell_type": "markdown",
   "source": [
    "The majority of samples exhibit ratings within the 2.5 to 4 range. Imbalanced ratings characterize a non-uniform distribution across the dataset. This issue will be handled when predicting ratings."
   ],
   "metadata": {
    "id": "259hIyzgYspx"
   }
  },
  {
   "cell_type": "code",
   "source": [
    "print(df['bean_origin'].sort_values().unique())"
   ],
   "metadata": {
    "colab": {
     "base_uri": "https://localhost:8080/"
    },
    "id": "nF2a3EMgZOEc",
    "outputId": "7adc8c7b-a1ae-467c-fa63-38bedbd524c1"
   },
   "execution_count": 11,
   "outputs": [
    {
     "name": "stdout",
     "output_type": "stream",
     "text": [
      "['Africa, Carribean, C. Am.' 'Australia' 'Belize' 'Bolivia' 'Brazil'\n",
      " 'Burma' 'Cameroon' 'Carribean' 'Carribean(DR/Jam/Tri)'\n",
      " 'Central and S. America' 'Colombia' 'Colombia, Ecuador' 'Congo'\n",
      " 'Cost Rica, Ven' 'Costa Rica' 'Cuba' 'DR, Ecuador, Peru'\n",
      " 'Dom. Rep., Madagascar' 'Domincan Republic' 'Dominican Rep., Bali'\n",
      " 'Dominican Republic' 'Ecuador' 'Ecuador, Costa Rica' 'Ecuador, Mad., PNG'\n",
      " 'El Salvador' 'Fiji' 'Gabon' 'Ghana' 'Ghana & Madagascar'\n",
      " 'Ghana, Domin. Rep' 'Ghana, Panama, Ecuador'\n",
      " 'Gre., PNG, Haw., Haiti, Mad' 'Grenada' 'Guat., D.R., Peru, Mad., PNG'\n",
      " 'Guatemala' 'Haiti' 'Hawaii' 'Honduras' 'India' 'Indonesia'\n",
      " 'Indonesia, Ghana' 'Ivory Coast' 'Jamaica' 'Liberia' 'Mad., Java, PNG'\n",
      " 'Madagascar' 'Madagascar & Ecuador' 'Malaysia' 'Martinique' 'Mexico'\n",
      " 'Nicaragua' 'Nigeria' 'PNG, Vanuatu, Mad' 'Panama' 'Papua New Guinea'\n",
      " 'Peru' 'Peru(SMartin,Pangoa,nacional)' 'Peru, Belize' 'Peru, Dom. Rep'\n",
      " 'Peru, Ecuador' 'Peru, Ecuador, Venezuela' 'Peru, Mad., Dom. Rep.'\n",
      " 'Peru, Madagascar' 'Philippines' 'Principe' 'Puerto Rico' 'Samoa'\n",
      " 'Sao Tome' 'Sao Tome & Principe' 'Solomon Islands' 'South America'\n",
      " 'South America, Africa' 'Sri Lanka' 'St. Lucia' 'Suriname' 'Tanzania'\n",
      " 'Tobago' 'Togo' 'Trinidad' 'Trinidad, Ecuador' 'Trinidad, Tobago'\n",
      " 'Trinidad-Tobago' 'Uganda' 'Vanuatu' 'Ven, Bolivia, D.R.'\n",
      " 'Ven, Trinidad, Ecuador' 'Ven., Indonesia, Ecuad.' 'Ven., Trinidad, Mad.'\n",
      " 'Ven.,Ecu.,Peru,Nic.' 'Venez,Africa,Brasil,Peru,Mex' 'Venezuela'\n",
      " 'Venezuela, Carribean' 'Venezuela, Dom. Rep.' 'Venezuela, Ghana'\n",
      " 'Venezuela, Java' 'Venezuela, Trinidad' 'Venezuela/ Ghana' 'Vietnam'\n",
      " 'West Africa' '\\xa0' nan]\n"
     ]
    }
   ]
  },
  {
   "cell_type": "markdown",
   "source": [
    "We've noticed that certain bean origins are labeled inconsistently, using different names. Additionally, there are instances where the bean origin comprises multiple locations in some samples. We'll need to address this through feature engineering by appropriately separating them.The same problem happens in chocolate_bar_origin column."
   ],
   "metadata": {
    "id": "sOMorlj34eTy"
   }
  },
  {
   "cell_type": "markdown",
   "source": [
    "We've observed that the 'country' column contains free-form text that lacks consistency. To address this issue, we'll need to perform feature engineering on this column to standardize its values."
   ],
   "metadata": {
    "id": "MEgS9amedwtL"
   }
  },
  {
   "cell_type": "code",
   "source": [
    "\n",
    "# Text preparation (correction) func\n",
    "def txt_prep(text):\n",
    "    replacements = [\n",
    "        ['-', ', '], ['/ ', ', '], ['/', ', '], ['\\(', ', '], [' and', ', '], [' &', ', '], ['\\)', ''],\n",
    "        ['Dom Rep|DR|Domin Rep|Dominican Rep,|Domincan Republic', 'Dominican Republic'],\n",
    "        ['Mad,|Mad$', 'Madagascar, '],\n",
    "        ['PNG', 'Papua New Guinea, '],\n",
    "        ['Guat,|Guat$', 'Guatemala, '],\n",
    "        ['Ven,|Ven$|Venez,|Venez$', 'Venezuela, '],\n",
    "        ['Ecu,|Ecu$|Ecuad,|Ecuad$', 'Ecuador, '],\n",
    "        ['Nic,|Nic$', 'Nicaragua, '],\n",
    "        ['Cost Rica', 'Costa Rica'],\n",
    "        ['Mex,|Mex$', 'Mexico, '],\n",
    "        ['Jam,|Jam$', 'Jamaica, '],\n",
    "        ['Haw,|Haw$', 'Hawaii, '],\n",
    "        ['Gre,|Gre$', 'Grenada, '],\n",
    "        ['Tri,|Tri$', 'Trinidad, '],\n",
    "        ['C Am', 'Central America'],\n",
    "        ['S America', 'South America'],\n",
    "        [', $', ''], [',  ', ', '], [', ,', ', '], ['\\xa0', ' '],[',\\s+', ','],\n",
    "        [' Bali', ',Bali']\n",
    "    ]\n",
    "    for i, j in replacements:\n",
    "        text = re.sub(i, j, text)\n",
    "    return text"
   ],
   "metadata": {
    "id": "6oX_ciCcyBvX"
   },
   "execution_count": 12,
   "outputs": []
  },
  {
   "cell_type": "markdown",
   "source": [
    "# **Data-preprocess**"
   ],
   "metadata": {
    "id": "sD-zwH5aMBXb"
   }
  },
  {
   "cell_type": "markdown",
   "source": [
    "Make the names in bean_origin consistent"
   ],
   "metadata": {
    "id": "jLZMAkgubsfr"
   }
  },
  {
   "cell_type": "code",
   "source": [
    "## Replace bean_origin\n",
    "df['bean_origin'] = df['bean_origin'].astype(str)\n",
    "df['bean_origin'] = df['bean_origin'].str.replace('.', '').apply(txt_prep)"
   ],
   "metadata": {
    "id": "-B-Dl11QDykx"
   },
   "execution_count": 13,
   "outputs": [
    {
     "name": "stderr",
     "output_type": "stream",
     "text": [
      "The default value of regex will change from True to False in a future version. In addition, single character regular expressions will *not* be treated as literal strings when regex=True.\n"
     ]
    }
   ]
  },
  {
   "cell_type": "code",
   "source": [
    "print(df['company_location'].sort_values().unique())"
   ],
   "metadata": {
    "colab": {
     "base_uri": "https://localhost:8080/"
    },
    "id": "0ZRgcpFbbQC1",
    "outputId": "5fa8b225-06ff-4c65-a5c6-0f0c5a3bf62b"
   },
   "execution_count": 14,
   "outputs": [
    {
     "name": "stdout",
     "output_type": "stream",
     "text": [
      "['Amsterdam' 'Argentina' 'Australia' 'Austria' 'Belgium' 'Bolivia'\n",
      " 'Brazil' 'Canada' 'Chile' 'Colombia' 'Costa Rica' 'Czech Republic'\n",
      " 'Denmark' 'Domincan Republic' 'Ecuador' 'Eucador' 'Fiji' 'Finland'\n",
      " 'France' 'Germany' 'Ghana' 'Grenada' 'Guatemala' 'Honduras' 'Hungary'\n",
      " 'Iceland' 'India' 'Ireland' 'Israel' 'Italy' 'Japan' 'Lithuania'\n",
      " 'Madagascar' 'Martinique' 'Mexico' 'Netherlands' 'New Zealand'\n",
      " 'Niacragua' 'Nicaragua' 'Peru' 'Philippines' 'Poland' 'Portugal'\n",
      " 'Puerto Rico' 'Russia' 'Sao Tome' 'Scotland' 'Singapore' 'South Africa'\n",
      " 'South Korea' 'Spain' 'St. Lucia' 'Suriname' 'Sweden' 'Switzerland'\n",
      " 'U.K.' 'U.S.A.' 'Venezuela' 'Vietnam' 'Wales']\n"
     ]
    }
   ]
  },
  {
   "cell_type": "markdown",
   "source": [
    "we can see that in company_location column there are some values we need to rename."
   ],
   "metadata": {
    "id": "K199vQq9b10m"
   }
  },
  {
   "cell_type": "code",
   "source": [
    "df['company_location'] = df['company_location']\\\n",
    ".str.replace('Amsterdam', 'Holland')\\\n",
    ".str.replace('U.K.', 'England')\\\n",
    ".str.replace('Niacragua', 'Nicaragua')\\\n",
    ".str.replace('Domincan Republic', 'Dominican Republic')"
   ],
   "metadata": {
    "id": "7NUFUfz5bam1"
   },
   "execution_count": 15,
   "outputs": [
    {
     "name": "stderr",
     "output_type": "stream",
     "text": [
      "The default value of regex will change from True to False in a future version.\n"
     ]
    }
   ]
  },
  {
   "cell_type": "markdown",
   "source": [
    "# **Features preprocess**"
   ],
   "metadata": {
    "id": "8ZAd8d3dxrc_"
   }
  },
  {
   "cell_type": "code",
   "source": [
    "asia = ['Japan', 'Vietnam', 'Israel', 'South Korea', 'Singapore', 'India', 'Philippines', 'Russia']\n",
    "africa = ['Madagascar', 'Sao Tome', 'South Africa', 'Ghana']\n",
    "north_america = ['U.S.A.', 'Canada', 'Martinique', 'Niacragua', 'Guatemala', 'St. Lucia', 'Puerto Rico', 'Mexico', 'Costa Rica', 'Honduras', 'Nicaragua', 'Domincan Republic', ]\n",
    "south_america = ['Ecuador', 'Eucador', 'Colombia', 'Suriname', 'Bolivia', 'Venezuela', 'Chile', 'Peru', 'Brazil', 'Argentina', 'Lithuania']\n",
    "europe = ['France', 'Denmark', 'Scotland', 'Wales', 'Czech Republic', 'Finland', 'Ireland', 'Portugal', 'Netherlands', 'Poland', 'Amsterdam', 'Sweden', 'U.K.', 'Italy', 'Belgium', 'Switzerland', 'Germany', 'Austria', 'Spain', 'Hungary', ]\n",
    "oceania = ['Australia', 'New Zealand', 'Fiji']\n",
    "def continents(x):\n",
    "    if x in asia:\n",
    "        return 'asia'\n",
    "    if x in africa:\n",
    "        return 'africa'\n",
    "    if x in north_america:\n",
    "        return 'north america'\n",
    "    if x in south_america:\n",
    "        return 'south america'\n",
    "    if x in europe:\n",
    "        return 'europe'\n",
    "    if x in oceania:\n",
    "        return 'oceania'\n",
    "    return 'europe'\n",
    "df['Continent'] = df['company_location'].apply(continents)\n",
    "df['Continent'].value_counts()\n",
    "plt.xticks(rotation=45)\n",
    "sns.countplot(x='Continent', data=df)\n",
    "plt.show()"
   ],
   "metadata": {
    "id": "lOseBl-hEOVy",
    "colab": {
     "base_uri": "https://localhost:8080/",
     "height": 516
    },
    "outputId": "967750ea-a7a0-4fab-fdd6-d7d209ae050b"
   },
   "execution_count": 16,
   "outputs": [
    {
     "data": {
      "text/plain": "<Figure size 640x480 with 1 Axes>",
      "image/png": "[encoded data removed]"
     },
     "metadata": {},
     "output_type": "display_data"
    }
   ]
  },
  {
   "cell_type": "markdown",
   "source": [
    "we add column of continent and we can see that most of the samples came from euorpe and north america."
   ],
   "metadata": {
    "id": "kMmwd6rfxzjB"
   }
  },
  {
   "cell_type": "code",
   "source": [
    "df['chocolate_bar_origin'].value_counts()"
   ],
   "metadata": {
    "colab": {
     "base_uri": "https://localhost:8080/"
    },
    "id": "sXNxtXdgxK6V",
    "outputId": "0efb7cdb-6843-4c3b-a8f7-f6dd7cbfcffc"
   },
   "execution_count": 17,
   "outputs": [
    {
     "data": {
      "text/plain": "Madagascar                        57\nPeru                              45\nEcuador                           42\nDominican Republic                37\nVenezuela                         21\n                                  ..\nConacado, #213, DR, -C             1\nSambirano Valley, #215, MR, MC     1\nChuao, #218, MR, MC                1\nChuao, #217, DR, MC                1\nBrazil, Mitzi Blue                 1\nName: chocolate_bar_origin, Length: 1039, dtype: int64"
     },
     "execution_count": 17,
     "metadata": {},
     "output_type": "execute_result"
    }
   ]
  },
  {
   "cell_type": "code",
   "source": [
    "df.drop(['chocolate_bar_origin'], axis=1, inplace=True)"
   ],
   "metadata": {
    "id": "1A1pt5JxyAIX"
   },
   "execution_count": 18,
   "outputs": []
  },
  {
   "cell_type": "markdown",
   "source": [
    "We chose to drop that column because we think that it is not adding necessery information for the rating\n",
    "\n",
    "\n"
   ],
   "metadata": {
    "id": "Q_bKQdjIGLbN"
   }
  },
  {
   "cell_type": "code",
   "source": [
    "df['REF'].unique().shape"
   ],
   "metadata": {
    "colab": {
     "base_uri": "https://localhost:8080/"
    },
    "id": "gg9GzUu-n01P",
    "outputId": "8d2232b0-141f-4c01-aa94-00b44a15841a"
   },
   "execution_count": 19,
   "outputs": [
    {
     "data": {
      "text/plain": "(440,)"
     },
     "execution_count": 19,
     "metadata": {},
     "output_type": "execute_result"
    }
   ]
  },
  {
   "cell_type": "markdown",
   "source": [
    "# **Data visualizations**\n",
    "After the pre-processing we applied on our data, let's visualize it and check if there is more processing needed in our data (such as dropping unnecessarily columns etc)\n",
    "\n"
   ],
   "metadata": {
    "id": "fnj6_hbZ4WgB"
   }
  },
  {
   "cell_type": "markdown",
   "source": [
    "Visualize the distribution of bean_type when bean_origin is mixed."
   ],
   "metadata": {
    "id": "DP0AJnuacdrR"
   }
  },
  {
   "cell_type": "code",
   "source": [
    "# Filter for rows with multiple values in \"bean_origin\"\n",
    "filtered_df = df[df['bean_origin'].str.contains(',')].copy()  # Use copy() to create a copy of the DataFrame\n",
    "filtered_df.loc[:, 'bean_type'] = filtered_df['bean_type'].replace('\\xa0', \"Missing\")\n",
    "filtered_df.loc[:, 'bean_type'] = filtered_df['bean_type'].replace('nan', \"Missing\")\n",
    "# Look at distribution of bean_type\n",
    "fig, ax = plt.subplots(figsize=[10, 4])\n",
    "sns.countplot(data=filtered_df, x='bean_type', ax=ax)\n",
    "ax.set_title('Distribution of bean_type when bean_origin is mixed')\n",
    "plt.xticks(rotation=45)  # Rotate x-axis labels for better readability\n",
    "plt.show()"
   ],
   "metadata": {
    "colab": {
     "base_uri": "https://localhost:8080/",
     "height": 502
    },
    "id": "GIy0H78gL0mV",
    "outputId": "dc23f77e-73a3-4099-f7ea-c59c825d2317"
   },
   "execution_count": 20,
   "outputs": [
    {
     "data": {
      "text/plain": "<Figure size 1000x400 with 1 Axes>",
      "image/png": "[encoded data removed]"
     },
     "metadata": {},
     "output_type": "display_data"
    }
   ]
  },
  {
   "cell_type": "markdown",
   "source": [
    "If we have multiple values in attribute “bean_origin” (mixed) we notice that the “bean_type” value is mostly ‘Blend’ or ‘missing’ or has more than one value in “bean_type”. (Maybe we could fill the missing values in “bean_type” to ‘blend’ according to this insight)."
   ],
   "metadata": {
    "id": "b-UHtpOMETkP"
   }
  },
  {
   "cell_type": "markdown",
   "source": [
    "check the distribution of bean_type when bean_origin is missing"
   ],
   "metadata": {
    "id": "P42aZMiYc4iD"
   }
  },
  {
   "cell_type": "code",
   "source": [
    "missing_df = df[df['bean_origin'].isna() | (df['bean_origin'] == \" \")].copy()\n",
    "missing_df.loc[:, 'bean_type'] = missing_df['bean_type'].replace('\\xa0', \"Missing\")\n",
    "missing_df.loc[:, 'bean_type'] = missing_df['bean_type'].replace('nan', \"Missing\")\n",
    "fig, ax = plt.subplots(figsize=[10, 6])\n",
    "sns.countplot(data=missing_df, x='bean_type', ax=ax)\n",
    "ax.set_title('Distribution of bean_type when bean_origin is missing')\n",
    "plt.xticks(rotation=45)  # Rotate x-axis labels for better readability\n",
    "plt.show()\n"
   ],
   "metadata": {
    "colab": {
     "base_uri": "https://localhost:8080/",
     "height": 603
    },
    "id": "BJKkp3S1N7qb",
    "outputId": "65c778c2-8c96-4b0c-f9eb-129b7af7606c"
   },
   "execution_count": 21,
   "outputs": [
    {
     "data": {
      "text/plain": "<Figure size 1000x600 with 1 Axes>",
      "image/png": "[encoded data removed]"
     },
     "metadata": {},
     "output_type": "display_data"
    }
   ]
  },
  {
   "cell_type": "markdown",
   "source": [
    " When we have ‘missing’ in “bean_origin” it most likely means that the “bean_type” is either ‘Blend’ or ‘missing ’."
   ],
   "metadata": {
    "id": "aF9W8CDQNXrS"
   }
  },
  {
   "cell_type": "code",
   "source": [
    "print(df['bean_type'].sort_values().unique())"
   ],
   "metadata": {
    "colab": {
     "base_uri": "https://localhost:8080/"
    },
    "id": "VGmKqthqwGnP",
    "outputId": "f1bad510-4eb5-4d70-f707-d835df094d1d"
   },
   "execution_count": 22,
   "outputs": [
    {
     "name": "stdout",
     "output_type": "stream",
     "text": [
      "['Amazon' 'Amazon mix' 'Amazon, ICS' 'Beniano' 'Blend'\n",
      " 'Blend-Forastero,Criollo' 'CCN51' 'Criollo' 'Criollo (Amarru)'\n",
      " 'Criollo (Ocumare 61)' 'Criollo (Ocumare 67)' 'Criollo (Ocumare 77)'\n",
      " 'Criollo (Ocumare)' 'Criollo (Porcelana)' 'Criollo (Wild)' 'Criollo, +'\n",
      " 'Criollo, Forastero' 'Criollo, Trinitario' 'EET' 'Forastero'\n",
      " 'Forastero (Amelonado)' 'Forastero (Arriba)' 'Forastero (Arriba) ASS'\n",
      " 'Forastero (Arriba) ASSS' 'Forastero (Catongo)' 'Forastero (Nacional)'\n",
      " 'Forastero (Parazinho)' 'Forastero(Arriba, CCN)' 'Forastero, Trinitario'\n",
      " 'Matina' 'Nacional' 'Nacional (Arriba)' 'Trinitario'\n",
      " 'Trinitario (85% Criollo)' 'Trinitario (Amelonado)'\n",
      " 'Trinitario (Scavina)' 'Trinitario, Criollo' 'Trinitario, Forastero'\n",
      " 'Trinitario, Nacional' 'Trinitario, TCGA' '\\xa0' nan]\n"
     ]
    }
   ]
  },
  {
   "cell_type": "markdown",
   "source": [
    "We will handle missing values later."
   ],
   "metadata": {
    "id": "bryQxvtuyqB1"
   }
  },
  {
   "cell_type": "code",
   "source": [
    "df['bean_origin'].value_counts()"
   ],
   "metadata": {
    "colab": {
     "base_uri": "https://localhost:8080/"
    },
    "id": "sabvVfAWnMR7",
    "outputId": "580e4d4f-9d77-4ef4-beb2-d214430043d3"
   },
   "execution_count": 23,
   "outputs": [
    {
     "data": {
      "text/plain": "Venezuela                              214\nEcuador                                193\nDominican Republic                     166\nPeru                                   165\nMadagascar                             145\n                                      ... \nPeru,Belize                              1\nPeru,Madagascar,Dominican Republic       1\nnan                                      1\nPapua New Guinea,Vanuatu,Madagascar      1\nVenezuela,Carribean                      1\nName: bean_origin, Length: 98, dtype: int64"
     },
     "execution_count": 23,
     "metadata": {},
     "output_type": "execute_result"
    }
   ]
  },
  {
   "cell_type": "markdown",
   "source": [
    "Since we have many values in column 'bean_origin' we decieded to split each sample (row) according to the number of values in 'bean_origin' attribute.\n",
    "In order to do so, we first want to add a new column named 'weight' for each sample."
   ],
   "metadata": {
    "id": "kpV3YbAui6Yq"
   }
  },
  {
   "cell_type": "code",
   "source": [
    "# Function to split values, calculate weights, and create new rows\n",
    "def split_and_duplicate(row):\n",
    "    origins = row['bean_origin'].split(',')\n",
    "    if len(origins) > 1:\n",
    "        duplicated_rows = []\n",
    "        weight = 1 / len(origins)  # Calculate weight for split samples\n",
    "        for origin in origins:\n",
    "            new_row = row.copy()\n",
    "            new_row['bean_origin'] = origin\n",
    "            new_row['weight'] = weight\n",
    "            duplicated_rows.append(new_row)\n",
    "        return duplicated_rows\n",
    "    else:\n",
    "        row['weight'] = 1\n",
    "        return [row]\n",
    "\n",
    "# Apply function to each row and concatenate results\n",
    "df_split = pd.concat([pd.DataFrame(split_and_duplicate(row)) for _, row in df.iterrows()], ignore_index=True)\n",
    "\n",
    "df_split"
   ],
   "metadata": {
    "colab": {
     "base_uri": "https://localhost:8080/",
     "height": 424
    },
    "id": "K-x8M4dVi53G",
    "outputId": "5538073a-33d3-42c5-a244-34607822ea01"
   },
   "execution_count": 24,
   "outputs": [
    {
     "data": {
      "text/plain": "       company   REF  review_year  cocoa_p company_location  rating  \\\n0     A. Morin  1876         2016     0.63           France    3.75   \n1     A. Morin  1676         2015     0.70           France    2.75   \n2     A. Morin  1676         2015     0.70           France    3.00   \n3     A. Morin  1680         2015     0.70           France    3.50   \n4     A. Morin  1704         2015     0.70           France    3.50   \n...        ...   ...          ...      ...              ...     ...   \n1873    Zotter   647         2011     0.70          Austria    3.75   \n1874    Zotter   749         2011     0.65          Austria    3.00   \n1875    Zotter   749         2011     0.65          Austria    3.50   \n1876    Zotter   781         2011     0.62          Austria    3.25   \n1877    Zotter   486         2010     0.65          Austria    3.00   \n\n      bean_type bean_origin Continent  weight  \n0                  Sao Tome    europe     1.0  \n1                      Togo    europe     1.0  \n2                      Togo    europe     1.0  \n3                      Togo    europe     1.0  \n4                      Peru    europe     1.0  \n...         ...         ...       ...     ...  \n1873                   Peru    europe     1.0  \n1874  Forastero       Congo    europe     1.0  \n1875  Forastero       India    europe     1.0  \n1876                  India    europe     1.0  \n1877                 Brazil    europe     1.0  \n\n[1878 rows x 10 columns]",
      "text/html": "<div>\n<style scoped>\n    .dataframe tbody tr th:only-of-type {\n        vertical-align: middle;\n    }\n\n    .dataframe tbody tr th {\n        vertical-align: top;\n    }\n\n    .dataframe thead th {\n        text-align: right;\n    }\n</style>\n<table border=\"1\" class=\"dataframe\">\n  <thead>\n    <tr style=\"text-align: right;\">\n      <th></th>\n      <th>company</th>\n      <th>REF</th>\n      <th>review_year</th>\n      <th>cocoa_p</th>\n      <th>company_location</th>\n      <th>rating</th>\n      <th>bean_type</th>\n      <th>bean_origin</th>\n      <th>Continent</th>\n      <th>weight</th>\n    </tr>\n  </thead>\n  <tbody>\n    <tr>\n      <th>0</th>\n      <td>A. Morin</td>\n      <td>1876</td>\n      <td>2016</td>\n      <td>0.63</td>\n      <td>France</td>\n      <td>3.75</td>\n      <td></td>\n      <td>Sao Tome</td>\n      <td>europe</td>\n      <td>1.0</td>\n    </tr>\n    <tr>\n      <th>1</th>\n      <td>A. Morin</td>\n      <td>1676</td>\n      <td>2015</td>\n      <td>0.70</td>\n      <td>France</td>\n      <td>2.75</td>\n      <td></td>\n      <td>Togo</td>\n      <td>europe</td>\n      <td>1.0</td>\n    </tr>\n    <tr>\n      <th>2</th>\n      <td>A. Morin</td>\n      <td>1676</td>\n      <td>2015</td>\n      <td>0.70</td>\n      <td>France</td>\n      <td>3.00</td>\n      <td></td>\n      <td>Togo</td>\n      <td>europe</td>\n      <td>1.0</td>\n    </tr>\n    <tr>\n      <th>3</th>\n      <td>A. Morin</td>\n      <td>1680</td>\n      <td>2015</td>\n      <td>0.70</td>\n      <td>France</td>\n      <td>3.50</td>\n      <td></td>\n      <td>Togo</td>\n      <td>europe</td>\n      <td>1.0</td>\n    </tr>\n    <tr>\n      <th>4</th>\n      <td>A. Morin</td>\n      <td>1704</td>\n      <td>2015</td>\n      <td>0.70</td>\n      <td>France</td>\n      <td>3.50</td>\n      <td></td>\n      <td>Peru</td>\n      <td>europe</td>\n      <td>1.0</td>\n    </tr>\n    <tr>\n      <th>...</th>\n      <td>...</td>\n      <td>...</td>\n      <td>...</td>\n      <td>...</td>\n      <td>...</td>\n      <td>...</td>\n      <td>...</td>\n      <td>...</td>\n      <td>...</td>\n      <td>...</td>\n    </tr>\n    <tr>\n      <th>1873</th>\n      <td>Zotter</td>\n      <td>647</td>\n      <td>2011</td>\n      <td>0.70</td>\n      <td>Austria</td>\n      <td>3.75</td>\n      <td></td>\n      <td>Peru</td>\n      <td>europe</td>\n      <td>1.0</td>\n    </tr>\n    <tr>\n      <th>1874</th>\n      <td>Zotter</td>\n      <td>749</td>\n      <td>2011</td>\n      <td>0.65</td>\n      <td>Austria</td>\n      <td>3.00</td>\n      <td>Forastero</td>\n      <td>Congo</td>\n      <td>europe</td>\n      <td>1.0</td>\n    </tr>\n    <tr>\n      <th>1875</th>\n      <td>Zotter</td>\n      <td>749</td>\n      <td>2011</td>\n      <td>0.65</td>\n      <td>Austria</td>\n      <td>3.50</td>\n      <td>Forastero</td>\n      <td>India</td>\n      <td>europe</td>\n      <td>1.0</td>\n    </tr>\n    <tr>\n      <th>1876</th>\n      <td>Zotter</td>\n      <td>781</td>\n      <td>2011</td>\n      <td>0.62</td>\n      <td>Austria</td>\n      <td>3.25</td>\n      <td></td>\n      <td>India</td>\n      <td>europe</td>\n      <td>1.0</td>\n    </tr>\n    <tr>\n      <th>1877</th>\n      <td>Zotter</td>\n      <td>486</td>\n      <td>2010</td>\n      <td>0.65</td>\n      <td>Austria</td>\n      <td>3.00</td>\n      <td></td>\n      <td>Brazil</td>\n      <td>europe</td>\n      <td>1.0</td>\n    </tr>\n  </tbody>\n</table>\n<p>1878 rows × 10 columns</p>\n</div>"
     },
     "execution_count": 24,
     "metadata": {},
     "output_type": "execute_result"
    }
   ]
  },
  {
   "cell_type": "code",
   "source": [
    "df_split['weight'].value_counts()"
   ],
   "metadata": {
    "colab": {
     "base_uri": "https://localhost:8080/"
    },
    "id": "h5nojTUloRX-",
    "outputId": "fee80a2b-f34f-44a9-9342-26f504a6485d"
   },
   "execution_count": 25,
   "outputs": [
    {
     "data": {
      "text/plain": "1.000000    1739\n0.500000      76\n0.333333      36\n0.200000      15\n0.250000      12\nName: weight, dtype: int64"
     },
     "execution_count": 25,
     "metadata": {},
     "output_type": "execute_result"
    }
   ]
  },
  {
   "cell_type": "code",
   "source": [
    "# Assigning the split df to the origin df\n",
    "df = df_split"
   ],
   "metadata": {
    "id": "97vZ364EEyVW"
   },
   "execution_count": 26,
   "outputs": []
  },
  {
   "cell_type": "code",
   "source": [
    "df['bean_origin'].value_counts()"
   ],
   "metadata": {
    "colab": {
     "base_uri": "https://localhost:8080/"
    },
    "id": "ROcJBjRstKCI",
    "outputId": "9692a449-0626-4dde-fa8e-4560de11e7a5"
   },
   "execution_count": 27,
   "outputs": [
    {
     "data": {
      "text/plain": "Venezuela             228\nEcuador               207\nDominican Republic    177\nPeru                  176\nMadagascar            156\n                     ... \nMartinique              1\nGabon                   1\nBrasil                  1\nBurma                   1\nSuriname                1\nName: bean_origin, Length: 66, dtype: int64"
     },
     "execution_count": 27,
     "metadata": {},
     "output_type": "execute_result"
    }
   ]
  },
  {
   "cell_type": "code",
   "source": [
    "## Look at distribution of Cocoa %\n",
    "fig, ax = plt.subplots(figsize=[16,4])\n",
    "sns.distplot(df['cocoa_p'], ax=ax)\n",
    "ax.set_title('Cocoa %, Distribution')\n",
    "plt.show()"
   ],
   "metadata": {
    "colab": {
     "base_uri": "https://localhost:8080/",
     "height": 601
    },
    "id": "6bll0uFf47t-",
    "outputId": "400a1912-afc0-431d-e64d-760fc3ef9eb2"
   },
   "execution_count": 28,
   "outputs": [
    {
     "name": "stderr",
     "output_type": "stream",
     "text": [
      "\n",
      "\n",
      "`distplot` is a deprecated function and will be removed in seaborn v0.14.0.\n",
      "\n",
      "Please adapt your code to use either `displot` (a figure-level function with\n",
      "similar flexibility) or `histplot` (an axes-level function for histograms).\n",
      "\n",
      "For a guide to updating your code to use the new functions, please see\n",
      "https://gist.github.com/mwaskom/de44147ed2974457ad6372750bbe5751\n",
      "\n"
     ]
    },
    {
     "data": {
      "text/plain": "<Figure size 1600x400 with 1 Axes>",
      "image/png": "[encoded data removed]"
     },
     "metadata": {},
     "output_type": "display_data"
    }
   ]
  },
  {
   "cell_type": "markdown",
   "source": [
    "we can see that most of the bars have coca percent around 0.7"
   ],
   "metadata": {
    "id": "Lf1KkbvrH408"
   }
  },
  {
   "cell_type": "code",
   "source": [
    "top_counts = df.bean_origin.value_counts().head(10)\n",
    "\n",
    "plt.figure(figsize=(20, 5))\n",
    "sns.barplot(x=top_counts.index, y=top_counts.values, hue=top_counts.index, palette=\"Blues_r\", legend=False)\n",
    "plt.title(\"Where do most beans come from?\")\n",
    "plt.ylabel(\"count\")\n",
    "plt.xlabel(\"bean_origin\")\n",
    "plt.show()"
   ],
   "metadata": {
    "colab": {
     "base_uri": "https://localhost:8080/",
     "height": 449
    },
    "id": "NeW3ZsBI42Cx",
    "outputId": "20f1d2a0-94db-4b92-d2a0-3955742a23e1"
   },
   "execution_count": 29,
   "outputs": [
    {
     "ename": "AttributeError",
     "evalue": "Rectangle.set() got an unexpected keyword argument 'legend'",
     "output_type": "error",
     "traceback": [
      "\u001B[1;31m---------------------------------------------------------------------------\u001B[0m",
      "\u001B[1;31mAttributeError\u001B[0m                            Traceback (most recent call last)",
      "Cell \u001B[1;32mIn[29], line 4\u001B[0m\n\u001B[0;32m      1\u001B[0m top_counts \u001B[38;5;241m=\u001B[39m df\u001B[38;5;241m.\u001B[39mbean_origin\u001B[38;5;241m.\u001B[39mvalue_counts()\u001B[38;5;241m.\u001B[39mhead(\u001B[38;5;241m10\u001B[39m)\n\u001B[0;32m      3\u001B[0m plt\u001B[38;5;241m.\u001B[39mfigure(figsize\u001B[38;5;241m=\u001B[39m(\u001B[38;5;241m20\u001B[39m, \u001B[38;5;241m5\u001B[39m))\n\u001B[1;32m----> 4\u001B[0m \u001B[43msns\u001B[49m\u001B[38;5;241;43m.\u001B[39;49m\u001B[43mbarplot\u001B[49m\u001B[43m(\u001B[49m\u001B[43mx\u001B[49m\u001B[38;5;241;43m=\u001B[39;49m\u001B[43mtop_counts\u001B[49m\u001B[38;5;241;43m.\u001B[39;49m\u001B[43mindex\u001B[49m\u001B[43m,\u001B[49m\u001B[43m \u001B[49m\u001B[43my\u001B[49m\u001B[38;5;241;43m=\u001B[39;49m\u001B[43mtop_counts\u001B[49m\u001B[38;5;241;43m.\u001B[39;49m\u001B[43mvalues\u001B[49m\u001B[43m,\u001B[49m\u001B[43m \u001B[49m\u001B[43mhue\u001B[49m\u001B[38;5;241;43m=\u001B[39;49m\u001B[43mtop_counts\u001B[49m\u001B[38;5;241;43m.\u001B[39;49m\u001B[43mindex\u001B[49m\u001B[43m,\u001B[49m\u001B[43m \u001B[49m\u001B[43mpalette\u001B[49m\u001B[38;5;241;43m=\u001B[39;49m\u001B[38;5;124;43m\"\u001B[39;49m\u001B[38;5;124;43mBlues_r\u001B[39;49m\u001B[38;5;124;43m\"\u001B[39;49m\u001B[43m,\u001B[49m\u001B[43m \u001B[49m\u001B[43mlegend\u001B[49m\u001B[38;5;241;43m=\u001B[39;49m\u001B[38;5;28;43;01mFalse\u001B[39;49;00m\u001B[43m)\u001B[49m\n\u001B[0;32m      5\u001B[0m plt\u001B[38;5;241m.\u001B[39mtitle(\u001B[38;5;124m\"\u001B[39m\u001B[38;5;124mWhere do most beans come from?\u001B[39m\u001B[38;5;124m\"\u001B[39m)\n\u001B[0;32m      6\u001B[0m plt\u001B[38;5;241m.\u001B[39mylabel(\u001B[38;5;124m\"\u001B[39m\u001B[38;5;124mcount\u001B[39m\u001B[38;5;124m\"\u001B[39m)\n",
      "File \u001B[1;32m~\\AppData\\Local\\Programs\\Python\\Python39\\lib\\site-packages\\seaborn\\categorical.py:2763\u001B[0m, in \u001B[0;36mbarplot\u001B[1;34m(data, x, y, hue, order, hue_order, estimator, errorbar, n_boot, units, seed, orient, color, palette, saturation, width, errcolor, errwidth, capsize, dodge, ci, ax, **kwargs)\u001B[0m\n\u001B[0;32m   2760\u001B[0m \u001B[38;5;28;01mif\u001B[39;00m ax \u001B[38;5;129;01mis\u001B[39;00m \u001B[38;5;28;01mNone\u001B[39;00m:\n\u001B[0;32m   2761\u001B[0m     ax \u001B[38;5;241m=\u001B[39m plt\u001B[38;5;241m.\u001B[39mgca()\n\u001B[1;32m-> 2763\u001B[0m \u001B[43mplotter\u001B[49m\u001B[38;5;241;43m.\u001B[39;49m\u001B[43mplot\u001B[49m\u001B[43m(\u001B[49m\u001B[43max\u001B[49m\u001B[43m,\u001B[49m\u001B[43m \u001B[49m\u001B[43mkwargs\u001B[49m\u001B[43m)\u001B[49m\n\u001B[0;32m   2764\u001B[0m \u001B[38;5;28;01mreturn\u001B[39;00m ax\n",
      "File \u001B[1;32m~\\AppData\\Local\\Programs\\Python\\Python39\\lib\\site-packages\\seaborn\\categorical.py:1586\u001B[0m, in \u001B[0;36m_BarPlotter.plot\u001B[1;34m(self, ax, bar_kws)\u001B[0m\n\u001B[0;32m   1584\u001B[0m \u001B[38;5;28;01mdef\u001B[39;00m \u001B[38;5;21mplot\u001B[39m(\u001B[38;5;28mself\u001B[39m, ax, bar_kws):\n\u001B[0;32m   1585\u001B[0m \u001B[38;5;250m    \u001B[39m\u001B[38;5;124;03m\"\"\"Make the plot.\"\"\"\u001B[39;00m\n\u001B[1;32m-> 1586\u001B[0m     \u001B[38;5;28;43mself\u001B[39;49m\u001B[38;5;241;43m.\u001B[39;49m\u001B[43mdraw_bars\u001B[49m\u001B[43m(\u001B[49m\u001B[43max\u001B[49m\u001B[43m,\u001B[49m\u001B[43m \u001B[49m\u001B[43mbar_kws\u001B[49m\u001B[43m)\u001B[49m\n\u001B[0;32m   1587\u001B[0m     \u001B[38;5;28mself\u001B[39m\u001B[38;5;241m.\u001B[39mannotate_axes(ax)\n\u001B[0;32m   1588\u001B[0m     \u001B[38;5;28;01mif\u001B[39;00m \u001B[38;5;28mself\u001B[39m\u001B[38;5;241m.\u001B[39morient \u001B[38;5;241m==\u001B[39m \u001B[38;5;124m\"\u001B[39m\u001B[38;5;124mh\u001B[39m\u001B[38;5;124m\"\u001B[39m:\n",
      "File \u001B[1;32m~\\AppData\\Local\\Programs\\Python\\Python39\\lib\\site-packages\\seaborn\\categorical.py:1569\u001B[0m, in \u001B[0;36m_BarPlotter.draw_bars\u001B[1;34m(self, ax, kws)\u001B[0m\n\u001B[0;32m   1565\u001B[0m \u001B[38;5;28;01mfor\u001B[39;00m j, hue_level \u001B[38;5;129;01min\u001B[39;00m \u001B[38;5;28menumerate\u001B[39m(\u001B[38;5;28mself\u001B[39m\u001B[38;5;241m.\u001B[39mhue_names):\n\u001B[0;32m   1566\u001B[0m \n\u001B[0;32m   1567\u001B[0m     \u001B[38;5;66;03m# Draw the bars\u001B[39;00m\n\u001B[0;32m   1568\u001B[0m     offpos \u001B[38;5;241m=\u001B[39m barpos \u001B[38;5;241m+\u001B[39m \u001B[38;5;28mself\u001B[39m\u001B[38;5;241m.\u001B[39mhue_offsets[j]\n\u001B[1;32m-> 1569\u001B[0m     barfunc(offpos, \u001B[38;5;28mself\u001B[39m\u001B[38;5;241m.\u001B[39mstatistic[:, j], \u001B[38;5;28mself\u001B[39m\u001B[38;5;241m.\u001B[39mnested_width,\n\u001B[0;32m   1570\u001B[0m             color\u001B[38;5;241m=\u001B[39m\u001B[38;5;28mself\u001B[39m\u001B[38;5;241m.\u001B[39mcolors[j], align\u001B[38;5;241m=\u001B[39m\u001B[38;5;124m\"\u001B[39m\u001B[38;5;124mcenter\u001B[39m\u001B[38;5;124m\"\u001B[39m,\n\u001B[0;32m   1571\u001B[0m             label\u001B[38;5;241m=\u001B[39mhue_level, \u001B[38;5;241m*\u001B[39m\u001B[38;5;241m*\u001B[39mkws)\n\u001B[0;32m   1573\u001B[0m     \u001B[38;5;66;03m# Draw the confidence intervals\u001B[39;00m\n\u001B[0;32m   1574\u001B[0m     \u001B[38;5;28;01mif\u001B[39;00m \u001B[38;5;28mself\u001B[39m\u001B[38;5;241m.\u001B[39mconfint\u001B[38;5;241m.\u001B[39msize:\n",
      "File \u001B[1;32m~\\AppData\\Roaming\\Python\\Python39\\site-packages\\matplotlib\\__init__.py:1423\u001B[0m, in \u001B[0;36m_preprocess_data.<locals>.inner\u001B[1;34m(ax, data, *args, **kwargs)\u001B[0m\n\u001B[0;32m   1420\u001B[0m \u001B[38;5;129m@functools\u001B[39m\u001B[38;5;241m.\u001B[39mwraps(func)\n\u001B[0;32m   1421\u001B[0m \u001B[38;5;28;01mdef\u001B[39;00m \u001B[38;5;21minner\u001B[39m(ax, \u001B[38;5;241m*\u001B[39margs, data\u001B[38;5;241m=\u001B[39m\u001B[38;5;28;01mNone\u001B[39;00m, \u001B[38;5;241m*\u001B[39m\u001B[38;5;241m*\u001B[39mkwargs):\n\u001B[0;32m   1422\u001B[0m     \u001B[38;5;28;01mif\u001B[39;00m data \u001B[38;5;129;01mis\u001B[39;00m \u001B[38;5;28;01mNone\u001B[39;00m:\n\u001B[1;32m-> 1423\u001B[0m         \u001B[38;5;28;01mreturn\u001B[39;00m func(ax, \u001B[38;5;241m*\u001B[39m\u001B[38;5;28mmap\u001B[39m(sanitize_sequence, args), \u001B[38;5;241m*\u001B[39m\u001B[38;5;241m*\u001B[39mkwargs)\n\u001B[0;32m   1425\u001B[0m     bound \u001B[38;5;241m=\u001B[39m new_sig\u001B[38;5;241m.\u001B[39mbind(ax, \u001B[38;5;241m*\u001B[39margs, \u001B[38;5;241m*\u001B[39m\u001B[38;5;241m*\u001B[39mkwargs)\n\u001B[0;32m   1426\u001B[0m     auto_label \u001B[38;5;241m=\u001B[39m (bound\u001B[38;5;241m.\u001B[39marguments\u001B[38;5;241m.\u001B[39mget(label_namer)\n\u001B[0;32m   1427\u001B[0m                   \u001B[38;5;129;01mor\u001B[39;00m bound\u001B[38;5;241m.\u001B[39mkwargs\u001B[38;5;241m.\u001B[39mget(label_namer))\n",
      "File \u001B[1;32m~\\AppData\\Roaming\\Python\\Python39\\site-packages\\matplotlib\\axes\\_axes.py:2462\u001B[0m, in \u001B[0;36mAxes.bar\u001B[1;34m(self, x, height, width, bottom, align, **kwargs)\u001B[0m\n\u001B[0;32m   2453\u001B[0m \u001B[38;5;28;01mfor\u001B[39;00m l, b, w, h, c, e, lw, htch, lbl \u001B[38;5;129;01min\u001B[39;00m args:\n\u001B[0;32m   2454\u001B[0m     r \u001B[38;5;241m=\u001B[39m mpatches\u001B[38;5;241m.\u001B[39mRectangle(\n\u001B[0;32m   2455\u001B[0m         xy\u001B[38;5;241m=\u001B[39m(l, b), width\u001B[38;5;241m=\u001B[39mw, height\u001B[38;5;241m=\u001B[39mh,\n\u001B[0;32m   2456\u001B[0m         facecolor\u001B[38;5;241m=\u001B[39mc,\n\u001B[1;32m   (...)\u001B[0m\n\u001B[0;32m   2460\u001B[0m         hatch\u001B[38;5;241m=\u001B[39mhtch,\n\u001B[0;32m   2461\u001B[0m         )\n\u001B[1;32m-> 2462\u001B[0m     \u001B[43mr\u001B[49m\u001B[38;5;241;43m.\u001B[39;49m\u001B[43m_internal_update\u001B[49m\u001B[43m(\u001B[49m\u001B[43mkwargs\u001B[49m\u001B[43m)\u001B[49m\n\u001B[0;32m   2463\u001B[0m     r\u001B[38;5;241m.\u001B[39mget_path()\u001B[38;5;241m.\u001B[39m_interpolation_steps \u001B[38;5;241m=\u001B[39m \u001B[38;5;241m100\u001B[39m\n\u001B[0;32m   2464\u001B[0m     \u001B[38;5;28;01mif\u001B[39;00m orientation \u001B[38;5;241m==\u001B[39m \u001B[38;5;124m'\u001B[39m\u001B[38;5;124mvertical\u001B[39m\u001B[38;5;124m'\u001B[39m:\n",
      "File \u001B[1;32m~\\AppData\\Roaming\\Python\\Python39\\site-packages\\matplotlib\\artist.py:1186\u001B[0m, in \u001B[0;36mArtist._internal_update\u001B[1;34m(self, kwargs)\u001B[0m\n\u001B[0;32m   1179\u001B[0m \u001B[38;5;28;01mdef\u001B[39;00m \u001B[38;5;21m_internal_update\u001B[39m(\u001B[38;5;28mself\u001B[39m, kwargs):\n\u001B[0;32m   1180\u001B[0m \u001B[38;5;250m    \u001B[39m\u001B[38;5;124;03m\"\"\"\u001B[39;00m\n\u001B[0;32m   1181\u001B[0m \u001B[38;5;124;03m    Update artist properties without prenormalizing them, but generating\u001B[39;00m\n\u001B[0;32m   1182\u001B[0m \u001B[38;5;124;03m    errors as if calling `set`.\u001B[39;00m\n\u001B[0;32m   1183\u001B[0m \n\u001B[0;32m   1184\u001B[0m \u001B[38;5;124;03m    The lack of prenormalization is to maintain backcompatibility.\u001B[39;00m\n\u001B[0;32m   1185\u001B[0m \u001B[38;5;124;03m    \"\"\"\u001B[39;00m\n\u001B[1;32m-> 1186\u001B[0m     \u001B[38;5;28;01mreturn\u001B[39;00m \u001B[38;5;28;43mself\u001B[39;49m\u001B[38;5;241;43m.\u001B[39;49m\u001B[43m_update_props\u001B[49m\u001B[43m(\u001B[49m\n\u001B[0;32m   1187\u001B[0m \u001B[43m        \u001B[49m\u001B[43mkwargs\u001B[49m\u001B[43m,\u001B[49m\u001B[43m \u001B[49m\u001B[38;5;124;43m\"\u001B[39;49m\u001B[38;5;132;43;01m{cls.__name__}\u001B[39;49;00m\u001B[38;5;124;43m.set() got an unexpected keyword argument \u001B[39;49m\u001B[38;5;124;43m\"\u001B[39;49m\n\u001B[0;32m   1188\u001B[0m \u001B[43m        \u001B[49m\u001B[38;5;124;43m\"\u001B[39;49m\u001B[38;5;132;43;01m{prop_name!r}\u001B[39;49;00m\u001B[38;5;124;43m\"\u001B[39;49m\u001B[43m)\u001B[49m\n",
      "File \u001B[1;32m~\\AppData\\Roaming\\Python\\Python39\\site-packages\\matplotlib\\artist.py:1160\u001B[0m, in \u001B[0;36mArtist._update_props\u001B[1;34m(self, props, errfmt)\u001B[0m\n\u001B[0;32m   1158\u001B[0m             func \u001B[38;5;241m=\u001B[39m \u001B[38;5;28mgetattr\u001B[39m(\u001B[38;5;28mself\u001B[39m, \u001B[38;5;124mf\u001B[39m\u001B[38;5;124m\"\u001B[39m\u001B[38;5;124mset_\u001B[39m\u001B[38;5;132;01m{\u001B[39;00mk\u001B[38;5;132;01m}\u001B[39;00m\u001B[38;5;124m\"\u001B[39m, \u001B[38;5;28;01mNone\u001B[39;00m)\n\u001B[0;32m   1159\u001B[0m             \u001B[38;5;28;01mif\u001B[39;00m \u001B[38;5;129;01mnot\u001B[39;00m \u001B[38;5;28mcallable\u001B[39m(func):\n\u001B[1;32m-> 1160\u001B[0m                 \u001B[38;5;28;01mraise\u001B[39;00m \u001B[38;5;167;01mAttributeError\u001B[39;00m(\n\u001B[0;32m   1161\u001B[0m                     errfmt\u001B[38;5;241m.\u001B[39mformat(\u001B[38;5;28mcls\u001B[39m\u001B[38;5;241m=\u001B[39m\u001B[38;5;28mtype\u001B[39m(\u001B[38;5;28mself\u001B[39m), prop_name\u001B[38;5;241m=\u001B[39mk))\n\u001B[0;32m   1162\u001B[0m             ret\u001B[38;5;241m.\u001B[39mappend(func(v))\n\u001B[0;32m   1163\u001B[0m \u001B[38;5;28;01mif\u001B[39;00m ret:\n",
      "\u001B[1;31mAttributeError\u001B[0m: Rectangle.set() got an unexpected keyword argument 'legend'"
     ]
    },
    {
     "data": {
      "text/plain": "<Figure size 2000x500 with 1 Axes>",
      "image/png": "[encoded data removed]"
     },
     "metadata": {},
     "output_type": "display_data"
    }
   ]
  },
  {
   "cell_type": "markdown",
   "source": [
    "We can see that most of the beans come from Africa and south America countries."
   ],
   "metadata": {
    "id": "dk1rAEwEHA7K"
   }
  },
  {
   "cell_type": "markdown",
   "source": [
    "In this section, we exam the best chocolate bar in a broader way, we will take the mean value of the chocolate bar ratings by grouping the origins and company locations. Then we will use the records greater or equal to 10"
   ],
   "metadata": {
    "id": "IvpqUIVofrYN"
   }
  },
  {
   "cell_type": "code",
   "source": [
    "# Group by origin and location, and calculate average rating\n",
    "grouped = df.groupby(['bean_origin', 'company_location']).agg(count=('rating', 'count'), rate4=('rating', 'mean')).reset_index()\n",
    "\n",
    "# Filter out counts less than 20\n",
    "grouped = grouped[grouped['count'] >= 10]\n",
    "\n",
    "# Pivot the DataFrame to prepare for heatmap\n",
    "pivot_table = grouped.pivot(index='bean_origin', columns='company_location', values='rate4')\n",
    "\n",
    "# Plot heatmap\n",
    "plt.figure(figsize=(10, 6))\n",
    "sns.heatmap(pivot_table, annot=False, cmap=\"RdYlGn\", linewidths=.5)\n",
    "plt.title('Chocolate Bar Heatmap')\n",
    "plt.xlabel('Country')\n",
    "plt.ylabel('Bean Origin')\n",
    "plt.show()"
   ],
   "metadata": {
    "colab": {
     "base_uri": "https://localhost:8080/",
     "height": 635
    },
    "id": "VOo529wwerk2",
    "outputId": "bfb26120-b3a4-48b3-c181-9954c65286ad"
   },
   "execution_count": null,
   "outputs": []
  },
  {
   "cell_type": "markdown",
   "source": [
    "From the heatmap we can see USA produces the most chocolate bars. Whereas Canda produced chocolate with cocao beans originated from Venezuela and Peru has the highest quality. This is consisted with our previous analysis, Canada produce good chocolate while Venezuela and Peru are one of the origins of top cocao Beans."
   ],
   "metadata": {
    "id": "3s9Dmq96fMko"
   }
  },
  {
   "cell_type": "code",
   "source": [
    "plt.figure(figsize=(10, 6))\n",
    "for loc in df['company_location'].unique():\n",
    "    subset = df[df['company_location'] == loc]\n",
    "    plt.scatter(subset['cocoa_p'], subset['rating'], label=loc, alpha=0.5)\n",
    "\n",
    "plt.xlabel('Cocoa Percent(%)')\n",
    "plt.ylabel('Chocolate Bar Rating')\n",
    "plt.title('Scatter plot of Cocoa Percent vs Chocolate Bar Rating')\n",
    "plt.legend(title='Location', loc='center left', bbox_to_anchor=(1, 0.5), fontsize='small')\n",
    "plt.grid(True)\n",
    "plt.show()"
   ],
   "metadata": {
    "colab": {
     "base_uri": "https://localhost:8080/",
     "height": 1000
    },
    "id": "hgymQXeSjeLC",
    "outputId": "2d4cc773-7f53-446f-91fe-d269ad932b00"
   },
   "execution_count": null,
   "outputs": []
  },
  {
   "cell_type": "markdown",
   "source": [
    "From this graph we can see when cocao=50% we have the highest average rating. but the case is not persuasive enough. Consider the sample sizes into account, 70% cocao bar still will be the best choice. Moreover, any chocolate bars from 65% - 75% percent cocao looks pretty good and 100% cocoa has lower ratings. In addition we can see that bars from France and Canda have high ratings."
   ],
   "metadata": {
    "id": "MPLjHdrd74Jt"
   }
  },
  {
   "cell_type": "markdown",
   "source": [
    "In order to apply correlation plot and to run XGboost on our data we first would like to find all the categorial attributes.\n",
    "Then, we would like to convert all these features to one-hot encoding."
   ],
   "metadata": {
    "id": "et6j-H787c5j"
   }
  },
  {
   "cell_type": "code",
   "source": [
    "categorical_features = df.select_dtypes(include=['object']).columns.tolist()\n",
    "# Apply label encoding to categorical features\n",
    "label_encoders = {}\n",
    "for feature in categorical_features:\n",
    "    label_encoders[feature] = LabelEncoder()\n",
    "    df[feature] = label_encoders[feature].fit_transform(df[feature])\n"
   ],
   "metadata": {
    "id": "spc1TMFD7c5k"
   },
   "execution_count": null,
   "outputs": []
  },
  {
   "cell_type": "code",
   "source": [
    "df_without_weight = df.drop(columns=['weight'])\n",
    "plt.figure(figsize=(10,10))\n",
    "sns.heatmap(df_without_weight.corr(), linewidths=0.1, vmax=1.0, square=True, cmap='coolwarm', linecolor='white', annot=True).set_title(\"Correlation Map\")"
   ],
   "metadata": {
    "colab": {
     "base_uri": "https://localhost:8080/",
     "height": 890
    },
    "outputId": "c390bf87-defe-4a0b-b508-2a5606c7f3f5",
    "id": "asFx3-757c5k"
   },
   "execution_count": null,
   "outputs": []
  },
  {
   "cell_type": "markdown",
   "source": [
    "We can see strong correlation between REF and review_year, so we will drop the REF coulmn."
   ],
   "metadata": {
    "id": "2wKShNJu7c5k"
   }
  },
  {
   "cell_type": "code",
   "source": [
    "df.drop(['REF'], axis=1, inplace=True)"
   ],
   "metadata": {
    "id": "9R8EB9Uj7c5k"
   },
   "execution_count": null,
   "outputs": []
  },
  {
   "cell_type": "markdown",
   "source": [
    "### Unbalace labels data\n"
   ],
   "metadata": {
    "id": "jAFgOeUUyasz"
   }
  },
  {
   "cell_type": "code",
   "source": [
    "# Define a function to categorize ratings\n",
    "def categorize_rating(rating):\n",
    "    if rating >= 0 and rating < 1:\n",
    "        return 1\n",
    "    elif rating >= 1 and rating < 2:\n",
    "        return 2\n",
    "    elif rating >= 2 and rating < 3:\n",
    "        return 3\n",
    "    elif rating >= 3 and rating < 4:\n",
    "        return 4\n",
    "    elif rating >= 4 and rating <= 5:\n",
    "        return 5\n",
    "    elif rating >= 5 and rating <= 6:\n",
    "        return 6\n",
    "\n",
    "\n",
    "# Apply the function to create the new categorical rating column\n",
    "df['categorical_rating'] = df['rating'].apply(categorize_rating)"
   ],
   "metadata": {
    "id": "CcblqopRyeTw"
   },
   "execution_count": null,
   "outputs": []
  },
  {
   "cell_type": "markdown",
   "source": [
    "count the value of each categorial_rating"
   ],
   "metadata": {
    "id": "WjOUqZlCzNxF"
   }
  },
  {
   "cell_type": "code",
   "source": [
    "df['categorical_rating'].value_counts()"
   ],
   "metadata": {
    "colab": {
     "base_uri": "https://localhost:8080/"
    },
    "id": "7Djx04vizU3b",
    "outputId": "9e2350d4-606b-46ea-efb6-0c4ab87a3769"
   },
   "execution_count": null,
   "outputs": []
  },
  {
   "cell_type": "markdown",
   "source": [
    "We can see that the labels are unbalced so we will need to multiply samples with low count of labels."
   ],
   "metadata": {
    "id": "hMLX71R1z8m2"
   }
  },
  {
   "cell_type": "code",
   "source": [
    "# Determine the count of samples for each label\n",
    "label_counts = df['categorical_rating'].value_counts()\n",
    "\n",
    "# Determine the maximum count of samples for a label\n",
    "max_count = label_counts.max()\n",
    "\n",
    "# Initialize an empty list to store resampled DataFrames\n",
    "resampled_dfs = []\n",
    "\n",
    "# Iterate over each label\n",
    "for label, count in label_counts.items():\n",
    "    # Calculate the number of samples to resample\n",
    "    if count < max_count:\n",
    "        # Resample to match the count of the label with the maximum count\n",
    "        resampled_df = resample(df[df['categorical_rating'] == label],\n",
    "                                replace=True,\n",
    "                                n_samples=max_count - count,\n",
    "                                random_state=42)\n",
    "        # Append the resampled DataFrame to the list\n",
    "        resampled_dfs.append(resampled_df)\n",
    "\n",
    "# Concatenate the original DataFrame with the resampled DataFrames\n",
    "balanced_df = pd.concat([df] + resampled_dfs)\n",
    "\n",
    "# Shuffle the rows in the balanced DataFrame\n",
    "balanced_df = balanced_df.sample(frac=1, random_state=42)\n",
    "balanced_df['categorical_rating'].value_counts()"
   ],
   "metadata": {
    "colab": {
     "base_uri": "https://localhost:8080/"
    },
    "id": "5-p892Bu0XPj",
    "outputId": "9ff2cafe-9a85-4d35-e2dc-f3597cd4eb4b"
   },
   "execution_count": null,
   "outputs": []
  },
  {
   "cell_type": "code",
   "source": [
    "# Assigning balanced df to origin df\n",
    "df = balanced_df"
   ],
   "metadata": {
    "id": "pRguWFwI1wLh"
   },
   "execution_count": null,
   "outputs": []
  },
  {
   "cell_type": "markdown",
   "source": [
    "Oversampling, is one common method to balance imbalanced datasets. It involves randomly duplicating samples from the minority classes until the class distribution is balanced. This is a naive appoch and later on we will do other way of oversampling with noise in order to avoid overfitting"
   ],
   "metadata": {
    "id": "a-LBE-HZ1xpk"
   }
  },
  {
   "cell_type": "markdown",
   "source": [
    "# **Outliers**\n",
    "Outliers can significantly affect the performance of your machine learning model. They can distort the overall distribution of the data, leading to biased model estimates and poor generalization to new data.\n",
    "They can disproportionately influence the model's coefficients, leading to inaccurate predictions."
   ],
   "metadata": {
    "id": "y1bodpFwJ9QW"
   }
  },
  {
   "cell_type": "code",
   "source": [
    "df.mean()"
   ],
   "metadata": {
    "colab": {
     "base_uri": "https://localhost:8080/"
    },
    "id": "CN8FPAckNkUR",
    "outputId": "62b639e2-ffb7-44fa-e374-afa47b9dced2"
   },
   "execution_count": null,
   "outputs": []
  },
  {
   "cell_type": "markdown",
   "source": [
    "We've decided to exclude the 'weight' and 'ratings' columns from the outliers calculation. This decision was made to avoid disregarding samples with uncommon ratings that are still relevant for prediction. The 'weight' feature, which is normally set to 1 for all samples except those that have been split, is not considered in the outliers calculation. Split samples have a weight less than 1, as explained earlier. Therefore, the 'weight' feature should not influence the identification of outliers, ensuring that split samples are not mistakenly labeled as outliers. It's worth noting that we split samples ourselves to handle cases where one feature contained multiple values. This was done to ensure that each feature had only one value per sample, simplifying the analysis."
   ],
   "metadata": {
    "id": "E4G8SmNeM9gb"
   }
  },
  {
   "cell_type": "code",
   "source": [
    "def outlier_detaction(df):\n",
    "  # Exclude 'weight','rating' columns from outlier detection\n",
    "  columns_to_exclude = ['weight','rating']\n",
    "\n",
    "  # Calculate z-scores for each column excluding specified columns\n",
    "  z_scores = df.drop(columns=columns_to_exclude).apply(lambda x: np.abs((x - x.mean()) / x.std()))\n",
    "\n",
    "  # Set a threshold for outlier detection (e.g., z-score > 3)\n",
    "  threshold = 3\n",
    "  outliers = df[(z_scores > threshold).any(axis=1)]\n",
    "\n",
    "  # Filter outliers from the DataFrame while including the dropped columns\n",
    "  filtered_df = df.drop(outliers.index)\n",
    "\n",
    "  print(\"Original DataFrame:\")\n",
    "  print(df.shape)\n",
    "  print(\"\\nFiltered DataFrame:\")\n",
    "  print(filtered_df.shape)\n",
    "\n",
    "  return filtered_df, outliers"
   ],
   "metadata": {
    "id": "FC6BTeHHLKeI"
   },
   "execution_count": null,
   "outputs": []
  },
  {
   "cell_type": "markdown",
   "source": [
    "A threshold of 3 standard deviations from the mean (z-score > 3) is often used, as it covers about 99.7% of the data in a normal distribution."
   ],
   "metadata": {
    "id": "J1U4-Y6YMPhq"
   }
  },
  {
   "cell_type": "code",
   "source": [
    "balanced_filtered_df, outliers = outlier_detaction(df)\n",
    "print(f'Number of outliers: {len(outliers)}')"
   ],
   "metadata": {
    "colab": {
     "base_uri": "https://localhost:8080/"
    },
    "id": "vWKDpc0OE8E8",
    "outputId": "658a8cc6-7f1e-4cc8-c08d-6d2e85817815"
   },
   "execution_count": null,
   "outputs": []
  },
  {
   "cell_type": "code",
   "source": [
    "# Assigning balanced filtered df to origin df\n",
    "df = balanced_filtered_df"
   ],
   "metadata": {
    "id": "tbtd2quj3tdI"
   },
   "execution_count": null,
   "outputs": []
  },
  {
   "cell_type": "markdown",
   "source": [
    "# **Missing value analyze** -\n",
    "Handaling missing values in data set\n"
   ],
   "metadata": {
    "id": "eXTF5YMycD4w"
   }
  },
  {
   "cell_type": "markdown",
   "source": [
    "Before we fill the missing value in bean_type column accroding to our insight, we'll split our data to train and test so that information from the test set wont be taken into consideration when training."
   ],
   "metadata": {
    "id": "VFbcprvAFwnl"
   }
  },
  {
   "cell_type": "markdown",
   "source": [
    "Now we would separte our samples from the label we want to predict.\n",
    "Our label is 'categorical_rating'.\n"
   ],
   "metadata": {
    "id": "K7daTF2XC4a9"
   }
  },
  {
   "cell_type": "code",
   "source": [
    "def label_processing(df):\n",
    "  # Map labels to start from 0\n",
    "  min_label = min(df['categorical_rating'])\n",
    "  df['categorical_rating'] = df['categorical_rating'] - min_label\n",
    "  y = df['categorical_rating']\n",
    "\n",
    "  # Separate features and labels\n",
    "  X = df.drop(['categorical_rating', 'rating'], axis=1)\n",
    "  y.value_counts()\n",
    "  return X, y"
   ],
   "metadata": {
    "id": "ycWORtzDD2qR"
   },
   "execution_count": null,
   "outputs": []
  },
  {
   "cell_type": "code",
   "source": [
    "# Split the data into training and testing sets\n",
    "X, y = label_processing(df)\n",
    "X_train, X_test, y_train, y_test = train_test_split(X, y, test_size=0.8, random_state=42)"
   ],
   "metadata": {
    "id": "-Pgt9tx40ELG"
   },
   "execution_count": null,
   "outputs": []
  },
  {
   "cell_type": "markdown",
   "source": [
    "Handaling missing values in train set"
   ],
   "metadata": {
    "id": "KhIE0gZi1Ezc"
   }
  },
  {
   "cell_type": "code",
   "source": [
    "# Access the mapping for a specific categorical feature\n",
    "def print_mapping(feature_name):\n",
    "  if feature_name in label_encoders:\n",
    "      mapping = dict(zip(label_encoders[feature_name].classes_, label_encoders[feature_name].transform(label_encoders[feature_name].classes_)))\n",
    "      print(mapping)"
   ],
   "metadata": {
    "id": "mHis6Gkr_jFN"
   },
   "execution_count": null,
   "outputs": []
  },
  {
   "cell_type": "code",
   "source": [
    "print_mapping('bean_type')"
   ],
   "metadata": {
    "colab": {
     "base_uri": "https://localhost:8080/"
    },
    "id": "Y_q4OfqWA9BO",
    "outputId": "645a3fb2-218e-4229-e5a1-20201d0e7c1a"
   },
   "execution_count": null,
   "outputs": []
  },
  {
   "cell_type": "markdown",
   "source": [
    "We can see from the encoder that the numeric values for 'Blend', '\\xa0' and nan are 4, 40 and 41 respectively."
   ],
   "metadata": {
    "id": "CGMBC_qp_3_8"
   }
  },
  {
   "cell_type": "code",
   "source": [
    "\"\"\"\n",
    "X_train['bean_type'] = X_train['bean_type'].replace('\\xa0', \"Blend\")\n",
    "X_train['bean_type'] = X_train['bean_type'].replace('nan', \"Blend\")\n",
    "X_train['bean_type'].value_counts()\n",
    "\n",
    "The code above is the same as the following code but instead categorial values we have nomeric values:\n",
    "\"\"\"\n",
    "X_train['bean_type'] = X_train['bean_type'].replace(40, 4)\n",
    "X_train['bean_type'] = X_train['bean_type'].replace(41, 4)\n",
    "X_train['bean_type'].value_counts()\n"
   ],
   "metadata": {
    "id": "_s04xNWcl2-O",
    "colab": {
     "base_uri": "https://localhost:8080/"
    },
    "outputId": "3ad12481-727d-4f6a-b149-a4055c35fe5c"
   },
   "execution_count": null,
   "outputs": []
  },
  {
   "cell_type": "markdown",
   "source": [
    "Replace empty strings in 'bean_origin' column with 'Venezuela' which is the most common bean_origin"
   ],
   "metadata": {
    "id": "Ac44CKd9usy3"
   }
  },
  {
   "cell_type": "code",
   "source": [
    "print_mapping('bean_origin')"
   ],
   "metadata": {
    "colab": {
     "base_uri": "https://localhost:8080/"
    },
    "id": "7aDS1gfsBE1D",
    "outputId": "ee589798-1d9b-4295-be3d-07e4055b4805"
   },
   "execution_count": null,
   "outputs": []
  },
  {
   "cell_type": "markdown",
   "source": [
    "We can see the mapping- 'Venezuela': 61, 'nan': 65 and ' ': 0.\n"
   ],
   "metadata": {
    "id": "QBWcSX2CBmHL"
   }
  },
  {
   "cell_type": "code",
   "source": [
    "\"\"\"\n",
    "X_train['bean_origin'] = X_train['bean_origin'].replace(' ', \"Venezuela\")\n",
    "# Replace NaN values in 'bean_origin' column with 'Venezuela'\n",
    "X_train['bean_origin']=  X_train['bean_origin'].replace(\"nan\", \"Venezuela\")\n",
    "X_train['bean_origin'].value_counts()\n",
    "\n",
    "The code above is the same as the following code but instead categorial values we have nomeric values:\n",
    "\"\"\"\n",
    "\n",
    "X_train['bean_origin'] = X_train['bean_origin'].replace(0, 61)\n",
    "# Replace NaN values in 'bean_origin' column with 'Venezuela'\n",
    "X_train['bean_origin']=  X_train['bean_origin'].replace(65, 61)\n",
    "X_train['bean_origin'].value_counts()"
   ],
   "metadata": {
    "colab": {
     "base_uri": "https://localhost:8080/"
    },
    "id": "QEsCzdXQuprf",
    "outputId": "32385155-3a71-4c53-c86c-1dddf023a934"
   },
   "execution_count": null,
   "outputs": []
  },
  {
   "cell_type": "markdown",
   "source": [
    "## **Basic ML Pipeline - XGBoost**"
   ],
   "metadata": {
    "id": "-oo41zC5BzIN"
   }
  },
  {
   "cell_type": "markdown",
   "source": [
    "The XGBoost classifier is trained on the training data (X_train and y_train) and used to make predictions on the test data (X_test). Finally, the accuracy of the model is calculated by comparing the predicted labels (y_pred) with the actual labels (y_test)."
   ],
   "metadata": {
    "id": "Rlzt6KS4EKE9"
   }
  },
  {
   "cell_type": "markdown",
   "source": [
    "In addition, in the XGBoost algorithm, we aim to consider the 'weights' feature of samples to ensure that samples with lower weights have less impact compared to samples with a weight of 1. This approach is important because we want the split samples to represent a fraction of the original sample, reflecting their relative importance in the analysis."
   ],
   "metadata": {
    "id": "pSXsohvkHAUP"
   }
  },
  {
   "cell_type": "code",
   "source": [
    "def perform_XGboost(X_train, y_train, X_test, y_test):\n",
    "\n",
    "  # Create an XGBoost classifier\n",
    "  clf = xgb.XGBClassifier()\n",
    "\n",
    "  # Convert weight to sample weights\n",
    "  sample_weights = np.array(X_train['weight'])\n",
    "\n",
    "  # Train the classifier with sample weights\n",
    "  model= clf.fit(X_train, y_train, sample_weight=sample_weights)\n",
    "\n",
    "  # Make predictions\n",
    "  y_pred = clf.predict(X_test)\n",
    "\n",
    "  # # Map predictions back to original labels\n",
    "  # y_pred_original = y_pred + min_label\n",
    "\n",
    "  # Calculate accuracy\n",
    "  y_test = y_test.to_numpy()\n",
    "  accuracy = accuracy_score(y_test, y_pred)\n",
    "  print(\"Accuracy without cross-validation\", accuracy)\n",
    "  return model\n",
    "\n"
   ],
   "metadata": {
    "id": "8oRWtrC7EI9Z"
   },
   "execution_count": null,
   "outputs": []
  },
  {
   "cell_type": "markdown",
   "source": [
    "# Evaluation metrics:\n",
    "\n",
    "we calculated statisitics mesurments of\n",
    "Precision: Proportion of true positives among positive predictions, crucial for avoiding false positives.\n",
    "Recall: Ability to capture actual positives, important for identifying loan defaults.\n",
    "F1-score: Harmonic mean of precision and recall, providing a balanced assessment.\n",
    "Accuracy is a simple and intuitive metric that measures overall correctness. It's suitable when the class distribution is roughly balanced and there is no significant cost difference between false positives and false negatives like in our case. we add  confusion matrix to evaluate our performance because it provides a tabular summary of the number of correct and incorrect predictions made by a classifier for each class. It's useful for understanding the performance of the classifier in more detail.\n",
    "Now, we will perfome 10-fold cross validation"
   ],
   "metadata": {
    "id": "RFjAp8SDWPyR"
   }
  },
  {
   "cell_type": "code",
   "source": [
    "\n",
    "\n",
    "def ten_fold_cross_validation(X, y, dataset, clf, matrix_print=True):\n",
    "    # Define the number of folds for k-fold cross-validation\n",
    "    n_splits = 10\n",
    "\n",
    "    # Initialize lists to store evaluation scores for each fold\n",
    "    accuracy_scores = []\n",
    "    precision_scores = []\n",
    "    recall_scores = []\n",
    "    f1_scores = []\n",
    "\n",
    "    # Initialize a list to store confusion matrices for each fold\n",
    "    conf_matrices = []\n",
    "\n",
    "    # Define the cross-validation strategy\n",
    "    kf = KFold(n_splits=n_splits, shuffle=True, random_state=42)\n",
    "\n",
    "    # Perform k-fold cross-validation\n",
    "    for train_index, test_index in kf.split(X):\n",
    "        X_train, X_test = X.iloc[train_index], X.iloc[test_index]\n",
    "        y_train, y_test = y.iloc[train_index], y.iloc[test_index]\n",
    "\n",
    "        # Train the classifier\n",
    "        clf.fit(X_train, y_train)\n",
    "\n",
    "        # Make predictions\n",
    "        y_pred = clf.predict(X_test)\n",
    "\n",
    "        # Calculate evaluation scores and append to lists\n",
    "        accuracy_scores.append(accuracy_score(y_test, y_pred))\n",
    "        precision_scores.append(precision_score(y_test, y_pred, average='macro'))\n",
    "        recall_scores.append(recall_score(y_test, y_pred, average='macro'))\n",
    "        f1_scores.append(f1_score(y_test, y_pred, average='macro'))\n",
    "\n",
    "        # Calculate confusion matrix and append to list\n",
    "        conf_matrix = confusion_matrix(y_test, y_pred)\n",
    "        conf_matrices.append(conf_matrix)\n",
    "\n",
    "    # Calculate and print the mean evaluation scores across all folds\n",
    "    mean_accuracy = np.mean(accuracy_scores)\n",
    "    mean_precision = np.mean(precision_scores)\n",
    "    mean_recall = np.mean(recall_scores)\n",
    "    mean_f1 = np.mean(f1_scores)\n",
    "\n",
    "    print(\"Mean Accuracy:\", mean_accuracy)\n",
    "    print(\"Mean Precision:\", mean_precision)\n",
    "    print(\"Mean Recall:\", mean_recall)\n",
    "    print(\"Mean F1-score:\", mean_f1)\n",
    "\n",
    "    if not matrix_print:\n",
    "        return\n",
    "\n",
    "    # Ensure all confusion matrices have the same shape\n",
    "    max_shape = max(matrix.shape for matrix in conf_matrices)\n",
    "    conf_matrices = [np.pad(matrix, ((0, max_shape[0] - matrix.shape[0]), (0, max_shape[1] - matrix.shape[1])), mode='constant', constant_values=0) for matrix in conf_matrices]\n",
    "\n",
    "    # Convert conf_matrices to numpy array\n",
    "    conf_matrices = np.array(conf_matrices)\n",
    "\n",
    "    # Calculate the mean of all confusion matrices\n",
    "    average_conf_matrix = np.mean(conf_matrices, axis=0)\n",
    "\n",
    "    # Plot average confusion matrix\n",
    "    plt.figure(figsize=(8, 6))\n",
    "    sns.heatmap(average_conf_matrix.astype(int), annot=True, fmt='d', cmap='Blues',\n",
    "                xticklabels=range(0, 4), yticklabels=range(0, 4))\n",
    "    plt.title(f'Average Confusion Matrix - {dataset}')\n",
    "    plt.xlabel('Predicted label')\n",
    "    plt.ylabel('True label')\n",
    "    plt.show()\n"
   ],
   "metadata": {
    "id": "1889q_VtJiCK"
   },
   "execution_count": null,
   "outputs": []
  },
  {
   "cell_type": "markdown",
   "source": [
    "We want to evaluate our XGBOOST performance on our balanced filtered data."
   ],
   "metadata": {
    "id": "vtAly8B08HiV"
   }
  },
  {
   "cell_type": "code",
   "source": [
    "model = perform_XGboost(X_train, y_train, X_test, y_test)\n",
    "ten_fold_cross_validation(X_train, y_train, 'Balanced - filtered', model)\n"
   ],
   "metadata": {
    "colab": {
     "base_uri": "https://localhost:8080/",
     "height": 651
    },
    "id": "GLmdkSTN_hwE",
    "outputId": "b120bf0e-8f88-4cf5-b6ba-ca42d0fa3dfa"
   },
   "execution_count": null,
   "outputs": []
  },
  {
   "cell_type": "markdown",
   "source": [
    " Since we don't have a significant distinction between different types of mistakes (false positives and false negatives) in the classification problem, and all misclassifications are equally important, and we have balanced our dataset, then focusing on **accuracy** as the primary evaluation metric may indeed be appropriate."
   ],
   "metadata": {
    "id": "cqXhq_hARnQ4"
   }
  },
  {
   "cell_type": "markdown",
   "source": [
    "### **Explain for our results**:\n",
    "Before the first submission we ran the XGboost algorithm and got Test Accuracy: 0.79510556621881 Validation Accuracy: 0.9191750332201389. The results we got were on train set with the same distribution as test set since we handeled missing values before splitting the data. According to the note we got (that it is a better practice to analyse and impute missing values after splitting to train and test) we splitted the data set before filling the missing values. Thus, our model was trained on a data from a different distribution than the test data. Naturally, the performance of our model would be less accurate."
   ],
   "metadata": {
    "id": "8Dn56rXGHY9Z"
   }
  },
  {
   "cell_type": "markdown",
   "source": [
    "# **Improve our model**"
   ],
   "metadata": {
    "id": "glQZ0Iz7Ocmu"
   }
  },
  {
   "cell_type": "markdown",
   "source": [
    "**Feature importance**"
   ],
   "metadata": {
    "id": "4i8dm_rPt9tf"
   }
  },
  {
   "cell_type": "code",
   "source": [
    "# Get feature importances\n",
    "feature_importances = model.feature_importances_\n",
    "\n",
    "for feature, importance in zip(X_train, list(feature_importances)):\n",
    "  print(f'{feature}: {importance}')"
   ],
   "metadata": {
    "colab": {
     "base_uri": "https://localhost:8080/"
    },
    "id": "N1O9gbNDvMNw",
    "outputId": "1db00afd-ab37-4fb8-a606-97e3731bbc7f"
   },
   "execution_count": null,
   "outputs": []
  },
  {
   "cell_type": "markdown",
   "source": [
    "We can see that the lowest importance is the 'weight' feature but we need it for our calculation (since it represets the weight of each splitted sample as explain before). We will drop just 'bean_type' and check if it improves performance."
   ],
   "metadata": {
    "id": "71U_ohPI0ixV"
   }
  },
  {
   "cell_type": "code",
   "source": [
    "X_train_temp = X_train.drop(['bean_type'], axis=1)\n",
    "X_test_temp = X_test.drop(['bean_type'], axis=1)\n"
   ],
   "metadata": {
    "id": "NbbxEO4r1NrE"
   },
   "execution_count": null,
   "outputs": []
  },
  {
   "cell_type": "code",
   "source": [
    "model = perform_XGboost(X_train_temp, y_train, X_test_temp, y_test)\n",
    "ten_fold_cross_validation(X_train_temp, y_train, 'Balanced - filtered', model)"
   ],
   "metadata": {
    "colab": {
     "base_uri": "https://localhost:8080/",
     "height": 651
    },
    "id": "w6DW0MTH2heb",
    "outputId": "c2d9a093-ba42-4fcc-8b57-046a97acb4de"
   },
   "execution_count": null,
   "outputs": []
  },
  {
   "cell_type": "markdown",
   "source": [
    "We can see that our performance now is slightly better."
   ],
   "metadata": {
    "id": "k33RMaTv3sCa"
   }
  },
  {
   "cell_type": "code",
   "source": [
    "# Get feature importances\n",
    "feature_importances = model.feature_importances_\n",
    "\n",
    "for feature, importance in zip(X_train_temp, list(feature_importances)):\n",
    "  print(f'{feature}: {importance}')"
   ],
   "metadata": {
    "colab": {
     "base_uri": "https://localhost:8080/"
    },
    "id": "SVkNesqq6Gi-",
    "outputId": "9d03e80c-2246-49b2-dee9-8916527180b8"
   },
   "execution_count": null,
   "outputs": []
  },
  {
   "cell_type": "code",
   "source": [
    "X_train_temp = X_train_temp.drop(['bean_origin'], axis=1)\n",
    "X_test_temp = X_test_temp.drop(['bean_origin'], axis=1)\n"
   ],
   "metadata": {
    "id": "qdGH4lx46TpF"
   },
   "execution_count": null,
   "outputs": []
  },
  {
   "cell_type": "code",
   "source": [
    "model = perform_XGboost(X_train_temp, y_train, X_test_temp, y_test)\n",
    "ten_fold_cross_validation(X_train_temp, y_train, 'Balanced - filtered', model)"
   ],
   "metadata": {
    "colab": {
     "base_uri": "https://localhost:8080/",
     "height": 651
    },
    "id": "NJrxmaA76eUW",
    "outputId": "1960761b-27a4-474e-c03a-620fbe198efe"
   },
   "execution_count": null,
   "outputs": []
  },
  {
   "cell_type": "markdown",
   "source": [
    "**improve our ML model BY GBM**"
   ],
   "metadata": {
    "id": "vektkSc7780v"
   }
  },
  {
   "cell_type": "markdown",
   "source": [
    "Gradient Boosting Machines (GBM): GBM algorithms like CatBoost build trees sequentially, where each tree corrects errors made by the previous one, potentially leading to better overall performance."
   ],
   "metadata": {
    "id": "N56-Uo5yhU83"
   }
  },
  {
   "cell_type": "code",
   "source": [
    "\n",
    "\n",
    "# Define CatBoost parameters\n",
    "catboost_params = {\n",
    "    'iterations': 100,                  # Number of boosting iterations\n",
    "    'learning_rate': 0.1,               # Learning rate\n",
    "    'depth': 6,                         # Depth of the trees\n",
    "    'loss_function': 'MultiClass',      # Loss function for multi-class classification\n",
    "    'eval_metric': 'Accuracy',          # Evaluation metric\n",
    "    'random_seed': 42   ,\n",
    "     'verbose': False # Random seed for reproducibility\n",
    "}\n",
    "\n",
    "# Create CatBoost classifier\n",
    "catboost_model = CatBoostClassifier(**catboost_params)\n",
    "\n",
    "# Train the model\n",
    "catboost_model.fit(X_train_temp, y_train)\n",
    "\n",
    "# Make predictions on the test set\n",
    "y_pred_catboost = catboost_model.predict(X_test_temp)\n",
    "\n",
    "# Evaluate accuracy\n",
    "accuracy_catboost = accuracy_score(y_test, y_pred_catboost)\n",
    "print(\"Accuracy:\", accuracy_catboost)\n"
   ],
   "metadata": {
    "colab": {
     "base_uri": "https://localhost:8080/"
    },
    "id": "WpKOqkrbhUXG",
    "outputId": "7bcac7db-271e-4015-aa04-b64d3db66834"
   },
   "execution_count": null,
   "outputs": []
  },
  {
   "cell_type": "markdown",
   "source": [
    "We got better results using XGBoost so we will try to do hyper parametrs tuning for XGBOOST model in order to improve the resultls."
   ],
   "metadata": {
    "id": "r5piB6MWjq6o"
   }
  },
  {
   "cell_type": "markdown",
   "source": [
    "**Hyper-Parameter Tuning XGBOOST**"
   ],
   "metadata": {
    "id": "XWlXny8jh8Hh"
   }
  },
  {
   "cell_type": "code",
   "source": [
    "\n",
    "def perform_best_XGboost(X_train, y_train, X_test, y_test):\n",
    "\n",
    "    # Create an XGBoost classifier\n",
    "    clf = xgb.XGBClassifier()\n",
    "\n",
    "    # Define hyperparameters grid\n",
    "    param_grid = {\n",
    "        'n_estimators': [100, 200, 300],\n",
    "        'max_depth': [3, 5, 7, 10, 12],\n",
    "        'learning_rate': [0.1, 0.2, 0.3, 0.4, 0.5]\n",
    "    }\n",
    "\n",
    "    # Convert weight to sample weights\n",
    "    sample_weights = np.array(X_train['weight'])\n",
    "\n",
    "    # Perform grid search\n",
    "    grid_search = GridSearchCV(clf, param_grid, cv=3, scoring='accuracy')\n",
    "    grid_search.fit(X_train, y_train, sample_weight=sample_weights)\n",
    "\n",
    "    # Get the best model from grid search\n",
    "    best_clf = grid_search.best_estimator_\n",
    "\n",
    "    # Make predictions\n",
    "    y_pred = best_clf.predict(X_test)\n",
    "\n",
    "    # Calculate accuracy\n",
    "    accuracy = accuracy_score(y_test, y_pred)\n",
    "\n",
    "\n",
    "    print(\"Best Parameters:\", grid_search.best_params_)\n",
    "    print(\"Accuracy:\", accuracy)\n",
    "\n",
    "\n",
    "    return best_clf,y_pred\n"
   ],
   "metadata": {
    "id": "6KzbXTYn8cAy"
   },
   "execution_count": null,
   "outputs": []
  },
  {
   "cell_type": "code",
   "source": [
    "model ,y_pred= perform_best_XGboost(X_train_temp, y_train, X_test_temp, y_test)\n",
    "\n",
    "\n"
   ],
   "metadata": {
    "colab": {
     "base_uri": "https://localhost:8080/"
    },
    "id": "IgNkNJhO8FB2",
    "outputId": "e3d38272-05c7-46d0-ff34-92ea7fa54901"
   },
   "execution_count": null,
   "outputs": []
  },
  {
   "cell_type": "markdown",
   "source": [
    "### **Analyze the final model performance**"
   ],
   "metadata": {
    "id": "jngFbDRtS4OD"
   }
  },
  {
   "cell_type": "markdown",
   "source": [
    "Using SHAP -  SHAP (SHapley Additive exPlanations) is a method used in machine learning for understanding the output of black-box models. It provides explanations for individual predictions by attributing the prediction outcome to different features in the input data. SHAP values assign each feature an importance value for a particular prediction."
   ],
   "metadata": {
    "id": "f3MCaLkLu7r_"
   }
  },
  {
   "cell_type": "markdown",
   "source": [
    "Calculating SHAP values"
   ],
   "metadata": {
    "id": "FUtjKK4MVo8e"
   }
  },
  {
   "cell_type": "code",
   "source": [
    "\n",
    "explainer = shap.Explainer(model, X_train_temp)\n",
    "\n",
    "# Compute SHAP values\n",
    "shap_values = explainer(X_train_temp)\n"
   ],
   "metadata": {
    "colab": {
     "base_uri": "https://localhost:8080/"
    },
    "id": "uRWbGLO6q6fW",
    "outputId": "04b6fd13-281a-4577-e22d-4b2fdaebd5d6"
   },
   "execution_count": null,
   "outputs": []
  },
  {
   "cell_type": "code",
   "source": [
    "np.shape(shap_values)"
   ],
   "metadata": {
    "colab": {
     "base_uri": "https://localhost:8080/"
    },
    "id": "bMk94wDg8EVo",
    "outputId": "2b124dd7-ae44-4e11-c54d-399196f2754d"
   },
   "execution_count": null,
   "outputs": []
  },
  {
   "cell_type": "markdown",
   "source": [
    "Since we have multiclass we visualize the shap value manually, firstly, we generate waterfall plots for the SHAP values of a single sample. Considering only the SHAP values for individual features across different classes."
   ],
   "metadata": {
    "id": "ogvtN1ZcvIkB"
   }
  },
  {
   "cell_type": "code",
   "source": [
    "shap.plots.waterfall(shap_values[0, : ,0])\n",
    "shap.plots.waterfall(shap_values[0, : ,1])\n",
    "shap.plots.waterfall(shap_values[0, : ,2])\n",
    "shap.plots.waterfall(shap_values[0, : ,3])"
   ],
   "metadata": {
    "colab": {
     "base_uri": "https://localhost:8080/",
     "height": 1000
    },
    "id": "1ACQ83jSvHs8",
    "outputId": "0feac5e2-e9f7-4f76-aee3-38c4dd86ada3"
   },
   "execution_count": null,
   "outputs": []
  },
  {
   "cell_type": "markdown",
   "source": [
    "We can see the shap plot for each class, the improtance of features across classes. Let's visualize the mean SHAP values across all samples"
   ],
   "metadata": {
    "id": "DCamkbckCl6M"
   }
  },
  {
   "cell_type": "code",
   "source": [
    "mean_0=np.mean(np.abs(shap_values.values[:,:,0]),axis=0)\n",
    "mean_1=np.mean(np.abs(shap_values.values[:,:,1]),axis=0)\n",
    "mean_2=np.mean(np.abs(shap_values.values[:,:,2]),axis=0)\n",
    "mean_3=np.mean(np.abs(shap_values.values[:,:,3]),axis=0)"
   ],
   "metadata": {
    "id": "dljIV33-ACx_"
   },
   "execution_count": null,
   "outputs": []
  },
  {
   "cell_type": "markdown",
   "source": [
    "Plot the result"
   ],
   "metadata": {
    "id": "0YSL0YCmGp7r"
   }
  },
  {
   "cell_type": "code",
   "source": [
    "# Plot mean absolute SHAP values for each feature\n",
    "num_features = len(mean_0)\n",
    "feature_names = X_train_temp.columns  # Assuming X_train_temp is a DataFrame with feature names\n",
    "\n",
    "fig, ax = plt.subplots(figsize=(10, 6))\n",
    "\n",
    "index = np.arange(num_features)\n",
    "bar_width = 0.2\n",
    "\n",
    "opacity = 0.6\n",
    "error_config = {'ecolor': '0.3'}\n",
    "\n",
    "bar0 = ax.bar(index, mean_0, bar_width, alpha=opacity, color='b', label='rate_0')\n",
    "bar1 = ax.bar(index + bar_width, mean_1, bar_width, alpha=opacity, color='r', label='rate 1')\n",
    "bar2 = ax.bar(index + 2 * bar_width, mean_2, bar_width, alpha=opacity, color='g', label='rate 2')\n",
    "bar3 = ax.bar(index + 3 * bar_width, mean_3, bar_width, alpha=opacity, color='y', label='rate 3')\n",
    "\n",
    "ax.set_xlabel('Features')\n",
    "ax.set_ylabel('Mean Absolute SHAP Values')\n",
    "ax.set_title('Mean Absolute SHAP Values for Each Feature Across Different Classes')\n",
    "ax.set_xticks(index + 1.5 * bar_width)\n",
    "ax.set_xticklabels(feature_names)\n",
    "ax.legend()\n",
    "\n",
    "plt.tight_layout()\n",
    "plt.show()"
   ],
   "metadata": {
    "colab": {
     "base_uri": "https://localhost:8080/",
     "height": 607
    },
    "id": "i3nhNsgzBJzo",
    "outputId": "6bd0daa8-ba8f-4801-b95a-75191370f199"
   },
   "execution_count": null,
   "outputs": []
  },
  {
   "cell_type": "markdown",
   "source": [
    "From the plot we can see the mean shap value accross the featuresfor each class. For example we can see that for class-rate_0 there is high mean shap with cocoa_p feature.  "
   ],
   "metadata": {
    "id": "aO3T2IBYEgNY"
   }
  },
  {
   "cell_type": "markdown",
   "source": [
    "# **Error Analyze:**\n",
    "This could indicate areas where the model needs improvement, such as feature engineering, data preprocessing, or model tuning."
   ],
   "metadata": {
    "id": "upslbAMWkEU4"
   }
  },
  {
   "cell_type": "code",
   "source": [
    "incorrect_predictions = X_test_temp[y_test != y_pred]\n",
    "incorrect_indices = [i for i in range(len(y_test)) if y_test.iloc[i] != y_pred[i]]\n",
    "\n",
    "\n",
    "shap.plots.waterfall(shap_values[incorrect_indices[0], : ,0])\n",
    "shap.plots.waterfall(shap_values[incorrect_indices[0], : ,1])\n",
    "shap.plots.waterfall(shap_values[incorrect_indices[0], : ,2])\n",
    "shap.plots.waterfall(shap_values[incorrect_indices[0], : ,3])\n"
   ],
   "metadata": {
    "colab": {
     "base_uri": "https://localhost:8080/",
     "height": 1000
    },
    "id": "LNJn8jX7kGvq",
    "outputId": "67b2cbbc-f454-4d5e-83a4-fdc756e6674e"
   },
   "execution_count": null,
   "outputs": []
  },
  {
   "cell_type": "markdown",
   "source": [
    "We're having trouble identifying a clear pattern that led to the error. Our suspicion is that due to the limited size of our dataset, the model may be underfitting."
   ],
   "metadata": {
    "id": "hVPkg47y6h2F"
   }
  },
  {
   "cell_type": "markdown",
   "source": [
    "We aimed to enhance our machine learning model by incorporating feature selection and hyperparameter tuning. Our initial model was built on a meticulously preprocessed dataset, where we balanced the classes, removed outliers, and conducted extensive feature engineering. However, we suspect that the relatively small size of our dataset may have limited our model's performance. Despite these challenges, We tried to improve the basic ML algorithm using feature selectiom, and hyper parameter tunining and got small improvment."
   ],
   "metadata": {
    "id": "fEG1lCwr7Etk"
   }
  },
  {
   "cell_type": "markdown",
   "source": [
    "# **Conclustion**\n",
    "We've explored numerous notebooks dedicated to this dataset, drawing inspiration from others' exploratory data analyses (EDAs). However, we've enriched our pipeline with crucial steps tailored to our specific needs. Firstly, during the preprocessing phase, we delved into feature engineering. Given the inconsistent *values* in certain columns of the dataset, we meticulously handled outliers and balanced classes by introducing a weight column. We pruned uninformative columns and addressed missing values by thoroughly understanding the data and inferring relevant values. Each column's meaning was carefully interpreted, and missing values were imputed with the most plausible values, enhancing the overall robustness of our preprocessing pipeline."
   ],
   "metadata": {
    "id": "Cxgvvvri8TZM"
   }
  },
  {
   "cell_type": "markdown",
   "source": [
    "# **References**\n",
    "NOTEBOOK FOR ANALYZE DATASETS-\n",
    "https://www.kaggle.com/code/viannaandresouza/eda-chocolate-bar-ratings-analysis-statistic\n",
    "https://www.kaggle.com/code/noderaider/chocolate-bar-ratings-report\n",
    "https://www.kaggle.com/code/tibhar940/chocolate-bar-ratings-python-eda-dataviz\n",
    "https://www.kaggle.com/code/bansalvishesh/eda-on-chocolate-dataset\n",
    "https://www.kaggle.com/code/iamyajat/eda-and-cleaning-chocolate-ratings#EDA\n",
    "https://www.kaggle.com/code/sharanya02/exploring-chocolate-bar-ratings#Categorizing-chocolate-bars-based-on-their-rating\n",
    "\n",
    "ADDITIONAL WEBSITWS WE USE-\n",
    "https://xgboost.readthedocs.io/en/stable/\n",
    "https://shap.readthedocs.io/en/latest/\n"
   ],
   "metadata": {
    "id": "ZtCf_5ivkgGQ"
   }
  }
 ]
}
